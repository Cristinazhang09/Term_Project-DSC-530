{
 "cells": [
  {
   "cell_type": "code",
   "execution_count": 1,
   "metadata": {},
   "outputs": [],
   "source": [
    "# Load the libraries & packages\n",
    "import pandas as pd\n",
    "import matplotlib.pyplot as plt\n",
    "import numpy as np\n",
    "from empyrical_dist import Pmf\n",
    "from empyrical_dist import Cdf\n",
    "from scipy.stats import norm\n",
    "from scipy import stats  \n",
    "from sklearn.preprocessing import OneHotEncoder\n",
    "import statsmodels.formula.api as smf"
   ]
  },
  {
   "cell_type": "markdown",
   "metadata": {},
   "source": [
    "Import the data"
   ]
  },
  {
   "cell_type": "code",
   "execution_count": 2,
   "metadata": {},
   "outputs": [
    {
     "data": {
      "text/html": [
       "<div>\n",
       "<style scoped>\n",
       "    .dataframe tbody tr th:only-of-type {\n",
       "        vertical-align: middle;\n",
       "    }\n",
       "\n",
       "    .dataframe tbody tr th {\n",
       "        vertical-align: top;\n",
       "    }\n",
       "\n",
       "    .dataframe thead th {\n",
       "        text-align: right;\n",
       "    }\n",
       "</style>\n",
       "<table border=\"1\" class=\"dataframe\">\n",
       "  <thead>\n",
       "    <tr style=\"text-align: right;\">\n",
       "      <th></th>\n",
       "      <th>ID</th>\n",
       "      <th>Source</th>\n",
       "      <th>TMC</th>\n",
       "      <th>Severity</th>\n",
       "      <th>Start_Time</th>\n",
       "      <th>End_Time</th>\n",
       "      <th>Start_Lat</th>\n",
       "      <th>Start_Lng</th>\n",
       "      <th>End_Lat</th>\n",
       "      <th>End_Lng</th>\n",
       "      <th>...</th>\n",
       "      <th>Roundabout</th>\n",
       "      <th>Station</th>\n",
       "      <th>Stop</th>\n",
       "      <th>Traffic_Calming</th>\n",
       "      <th>Traffic_Signal</th>\n",
       "      <th>Turning_Loop</th>\n",
       "      <th>Sunrise_Sunset</th>\n",
       "      <th>Civil_Twilight</th>\n",
       "      <th>Nautical_Twilight</th>\n",
       "      <th>Astronomical_Twilight</th>\n",
       "    </tr>\n",
       "  </thead>\n",
       "  <tbody>\n",
       "    <tr>\n",
       "      <td>0</td>\n",
       "      <td>A-1</td>\n",
       "      <td>MapQuest</td>\n",
       "      <td>201.0</td>\n",
       "      <td>3</td>\n",
       "      <td>2016-02-08 05:46:00</td>\n",
       "      <td>2016-02-08 11:00:00</td>\n",
       "      <td>39.865147</td>\n",
       "      <td>-84.058723</td>\n",
       "      <td>NaN</td>\n",
       "      <td>NaN</td>\n",
       "      <td>...</td>\n",
       "      <td>False</td>\n",
       "      <td>False</td>\n",
       "      <td>False</td>\n",
       "      <td>False</td>\n",
       "      <td>False</td>\n",
       "      <td>False</td>\n",
       "      <td>Night</td>\n",
       "      <td>Night</td>\n",
       "      <td>Night</td>\n",
       "      <td>Night</td>\n",
       "    </tr>\n",
       "    <tr>\n",
       "      <td>1</td>\n",
       "      <td>A-2</td>\n",
       "      <td>MapQuest</td>\n",
       "      <td>201.0</td>\n",
       "      <td>2</td>\n",
       "      <td>2016-02-08 06:07:59</td>\n",
       "      <td>2016-02-08 06:37:59</td>\n",
       "      <td>39.928059</td>\n",
       "      <td>-82.831184</td>\n",
       "      <td>NaN</td>\n",
       "      <td>NaN</td>\n",
       "      <td>...</td>\n",
       "      <td>False</td>\n",
       "      <td>False</td>\n",
       "      <td>False</td>\n",
       "      <td>False</td>\n",
       "      <td>False</td>\n",
       "      <td>False</td>\n",
       "      <td>Night</td>\n",
       "      <td>Night</td>\n",
       "      <td>Night</td>\n",
       "      <td>Day</td>\n",
       "    </tr>\n",
       "    <tr>\n",
       "      <td>2</td>\n",
       "      <td>A-3</td>\n",
       "      <td>MapQuest</td>\n",
       "      <td>201.0</td>\n",
       "      <td>2</td>\n",
       "      <td>2016-02-08 06:49:27</td>\n",
       "      <td>2016-02-08 07:19:27</td>\n",
       "      <td>39.063148</td>\n",
       "      <td>-84.032608</td>\n",
       "      <td>NaN</td>\n",
       "      <td>NaN</td>\n",
       "      <td>...</td>\n",
       "      <td>False</td>\n",
       "      <td>False</td>\n",
       "      <td>False</td>\n",
       "      <td>False</td>\n",
       "      <td>True</td>\n",
       "      <td>False</td>\n",
       "      <td>Night</td>\n",
       "      <td>Night</td>\n",
       "      <td>Day</td>\n",
       "      <td>Day</td>\n",
       "    </tr>\n",
       "    <tr>\n",
       "      <td>3</td>\n",
       "      <td>A-4</td>\n",
       "      <td>MapQuest</td>\n",
       "      <td>201.0</td>\n",
       "      <td>3</td>\n",
       "      <td>2016-02-08 07:23:34</td>\n",
       "      <td>2016-02-08 07:53:34</td>\n",
       "      <td>39.747753</td>\n",
       "      <td>-84.205582</td>\n",
       "      <td>NaN</td>\n",
       "      <td>NaN</td>\n",
       "      <td>...</td>\n",
       "      <td>False</td>\n",
       "      <td>False</td>\n",
       "      <td>False</td>\n",
       "      <td>False</td>\n",
       "      <td>False</td>\n",
       "      <td>False</td>\n",
       "      <td>Night</td>\n",
       "      <td>Day</td>\n",
       "      <td>Day</td>\n",
       "      <td>Day</td>\n",
       "    </tr>\n",
       "    <tr>\n",
       "      <td>4</td>\n",
       "      <td>A-5</td>\n",
       "      <td>MapQuest</td>\n",
       "      <td>201.0</td>\n",
       "      <td>2</td>\n",
       "      <td>2016-02-08 07:39:07</td>\n",
       "      <td>2016-02-08 08:09:07</td>\n",
       "      <td>39.627781</td>\n",
       "      <td>-84.188354</td>\n",
       "      <td>NaN</td>\n",
       "      <td>NaN</td>\n",
       "      <td>...</td>\n",
       "      <td>False</td>\n",
       "      <td>False</td>\n",
       "      <td>False</td>\n",
       "      <td>False</td>\n",
       "      <td>True</td>\n",
       "      <td>False</td>\n",
       "      <td>Day</td>\n",
       "      <td>Day</td>\n",
       "      <td>Day</td>\n",
       "      <td>Day</td>\n",
       "    </tr>\n",
       "  </tbody>\n",
       "</table>\n",
       "<p>5 rows × 49 columns</p>\n",
       "</div>"
      ],
      "text/plain": [
       "    ID    Source    TMC  Severity           Start_Time             End_Time  \\\n",
       "0  A-1  MapQuest  201.0         3  2016-02-08 05:46:00  2016-02-08 11:00:00   \n",
       "1  A-2  MapQuest  201.0         2  2016-02-08 06:07:59  2016-02-08 06:37:59   \n",
       "2  A-3  MapQuest  201.0         2  2016-02-08 06:49:27  2016-02-08 07:19:27   \n",
       "3  A-4  MapQuest  201.0         3  2016-02-08 07:23:34  2016-02-08 07:53:34   \n",
       "4  A-5  MapQuest  201.0         2  2016-02-08 07:39:07  2016-02-08 08:09:07   \n",
       "\n",
       "   Start_Lat  Start_Lng  End_Lat  End_Lng  ...  Roundabout Station   Stop  \\\n",
       "0  39.865147 -84.058723      NaN      NaN  ...       False   False  False   \n",
       "1  39.928059 -82.831184      NaN      NaN  ...       False   False  False   \n",
       "2  39.063148 -84.032608      NaN      NaN  ...       False   False  False   \n",
       "3  39.747753 -84.205582      NaN      NaN  ...       False   False  False   \n",
       "4  39.627781 -84.188354      NaN      NaN  ...       False   False  False   \n",
       "\n",
       "  Traffic_Calming Traffic_Signal Turning_Loop Sunrise_Sunset Civil_Twilight  \\\n",
       "0           False          False        False          Night          Night   \n",
       "1           False          False        False          Night          Night   \n",
       "2           False           True        False          Night          Night   \n",
       "3           False          False        False          Night            Day   \n",
       "4           False           True        False            Day            Day   \n",
       "\n",
       "  Nautical_Twilight Astronomical_Twilight  \n",
       "0             Night                 Night  \n",
       "1             Night                   Day  \n",
       "2               Day                   Day  \n",
       "3               Day                   Day  \n",
       "4               Day                   Day  \n",
       "\n",
       "[5 rows x 49 columns]"
      ]
     },
     "execution_count": 2,
     "metadata": {},
     "output_type": "execute_result"
    }
   ],
   "source": [
    "dataframe = pd.read_csv(\"D:/Downloads/US_Accidents_Dec19.csv\")\n",
    "dataframe.head()"
   ]
  },
  {
   "cell_type": "markdown",
   "metadata": {},
   "source": [
    "list the variable names & associated data types"
   ]
  },
  {
   "cell_type": "code",
   "execution_count": 221,
   "metadata": {},
   "outputs": [
    {
     "name": "stdout",
     "output_type": "stream",
     "text": [
      "<class 'pandas.core.frame.DataFrame'>\n",
      "RangeIndex: 2974335 entries, 0 to 2974334\n",
      "Data columns (total 11 columns):\n",
      "ID                   object\n",
      "Severity             int64\n",
      "City                 object\n",
      "State                object\n",
      "Weather_Condition    object\n",
      "Temperature(F)       float64\n",
      "Humidity(%)          float64\n",
      "Pressure(in)         float64\n",
      "Visibility(mi)       float64\n",
      "Wind_Speed(mph)      float64\n",
      "Sunrise_Sunset       object\n",
      "dtypes: float64(5), int64(1), object(5)\n",
      "memory usage: 249.6+ MB\n"
     ]
    }
   ],
   "source": [
    "dataframe.info()"
   ]
  },
  {
   "cell_type": "markdown",
   "metadata": {},
   "source": [
    "Choose the variablies I will use, and drop the missing values.\n",
    "\n",
    "ID:  an unique integer ID for each accident record.\n",
    "\n",
    "Severity: an integer number which indicates the severity of the accident. It is from 1 to 4. 1 \n",
    "         indicates the least impact on traffic and 4 indicates the most severity impact on traffic.\n",
    "\n",
    "City: the city where the accident happened.\n",
    "\n",
    "State: the state which the accident happened.\n",
    "\n",
    "Temperature (F): the temperature of the place of the accident.\n",
    "\n",
    "Weather_Condition: the weather condition of the place of the accident.\n",
    "\n",
    "Humidity(%): the humidity in the place of the accident.\n",
    "\n",
    "Pressure(in): the air pressure in the place of the accident. \n",
    "\n",
    "Visibility(mi): visibility in the place of the accident. \n",
    "\n",
    "Wind_Speed(mph): the wind speed in the place of the accident. \n",
    "\n",
    "Sunrise_Sunset: the period of day (day / night) based on sunrise and sunset in the place of the accident."
   ]
  },
  {
   "cell_type": "code",
   "execution_count": 3,
   "metadata": {},
   "outputs": [
    {
     "data": {
      "text/html": [
       "<div>\n",
       "<style scoped>\n",
       "    .dataframe tbody tr th:only-of-type {\n",
       "        vertical-align: middle;\n",
       "    }\n",
       "\n",
       "    .dataframe tbody tr th {\n",
       "        vertical-align: top;\n",
       "    }\n",
       "\n",
       "    .dataframe thead th {\n",
       "        text-align: right;\n",
       "    }\n",
       "</style>\n",
       "<table border=\"1\" class=\"dataframe\">\n",
       "  <thead>\n",
       "    <tr style=\"text-align: right;\">\n",
       "      <th></th>\n",
       "      <th>ID</th>\n",
       "      <th>Severity</th>\n",
       "      <th>City</th>\n",
       "      <th>State</th>\n",
       "      <th>Weather_Condition</th>\n",
       "      <th>Temperature(F)</th>\n",
       "      <th>Humidity(%)</th>\n",
       "      <th>Pressure(in)</th>\n",
       "      <th>Visibility(mi)</th>\n",
       "      <th>Wind_Speed(mph)</th>\n",
       "      <th>Sunrise_Sunset</th>\n",
       "    </tr>\n",
       "  </thead>\n",
       "  <tbody>\n",
       "    <tr>\n",
       "      <td>2</td>\n",
       "      <td>A-3</td>\n",
       "      <td>2</td>\n",
       "      <td>Williamsburg</td>\n",
       "      <td>OH</td>\n",
       "      <td>Overcast</td>\n",
       "      <td>36.0</td>\n",
       "      <td>100.0</td>\n",
       "      <td>29.67</td>\n",
       "      <td>10.0</td>\n",
       "      <td>3.5</td>\n",
       "      <td>Night</td>\n",
       "    </tr>\n",
       "    <tr>\n",
       "      <td>3</td>\n",
       "      <td>A-4</td>\n",
       "      <td>3</td>\n",
       "      <td>Dayton</td>\n",
       "      <td>OH</td>\n",
       "      <td>Mostly Cloudy</td>\n",
       "      <td>35.1</td>\n",
       "      <td>96.0</td>\n",
       "      <td>29.64</td>\n",
       "      <td>9.0</td>\n",
       "      <td>4.6</td>\n",
       "      <td>Night</td>\n",
       "    </tr>\n",
       "    <tr>\n",
       "      <td>4</td>\n",
       "      <td>A-5</td>\n",
       "      <td>2</td>\n",
       "      <td>Dayton</td>\n",
       "      <td>OH</td>\n",
       "      <td>Mostly Cloudy</td>\n",
       "      <td>36.0</td>\n",
       "      <td>89.0</td>\n",
       "      <td>29.65</td>\n",
       "      <td>6.0</td>\n",
       "      <td>3.5</td>\n",
       "      <td>Day</td>\n",
       "    </tr>\n",
       "    <tr>\n",
       "      <td>5</td>\n",
       "      <td>A-6</td>\n",
       "      <td>3</td>\n",
       "      <td>Westerville</td>\n",
       "      <td>OH</td>\n",
       "      <td>Light Rain</td>\n",
       "      <td>37.9</td>\n",
       "      <td>97.0</td>\n",
       "      <td>29.63</td>\n",
       "      <td>7.0</td>\n",
       "      <td>3.5</td>\n",
       "      <td>Day</td>\n",
       "    </tr>\n",
       "    <tr>\n",
       "      <td>6</td>\n",
       "      <td>A-7</td>\n",
       "      <td>2</td>\n",
       "      <td>Dayton</td>\n",
       "      <td>OH</td>\n",
       "      <td>Overcast</td>\n",
       "      <td>34.0</td>\n",
       "      <td>100.0</td>\n",
       "      <td>29.66</td>\n",
       "      <td>7.0</td>\n",
       "      <td>3.5</td>\n",
       "      <td>Day</td>\n",
       "    </tr>\n",
       "  </tbody>\n",
       "</table>\n",
       "</div>"
      ],
      "text/plain": [
       "    ID  Severity          City State Weather_Condition  Temperature(F)  \\\n",
       "2  A-3         2  Williamsburg    OH          Overcast            36.0   \n",
       "3  A-4         3        Dayton    OH     Mostly Cloudy            35.1   \n",
       "4  A-5         2        Dayton    OH     Mostly Cloudy            36.0   \n",
       "5  A-6         3   Westerville    OH        Light Rain            37.9   \n",
       "6  A-7         2        Dayton    OH          Overcast            34.0   \n",
       "\n",
       "   Humidity(%)  Pressure(in)  Visibility(mi)  Wind_Speed(mph) Sunrise_Sunset  \n",
       "2        100.0         29.67            10.0              3.5          Night  \n",
       "3         96.0         29.64             9.0              4.6          Night  \n",
       "4         89.0         29.65             6.0              3.5            Day  \n",
       "5         97.0         29.63             7.0              3.5            Day  \n",
       "6        100.0         29.66             7.0              3.5            Day  "
      ]
     },
     "execution_count": 3,
     "metadata": {},
     "output_type": "execute_result"
    }
   ],
   "source": [
    "dataframe = dataframe.loc[ : , ['ID', 'Severity', 'City', 'State', 'Weather_Condition','Temperature(F)', 'Humidity(%)', \n",
    "                                 'Pressure(in)', 'Visibility(mi)', 'Wind_Speed(mph)', 'Sunrise_Sunset'] ]\n",
    "df = dataframe.dropna()\n",
    "df.head()"
   ]
  },
  {
   "cell_type": "markdown",
   "metadata": {},
   "source": [
    "Print out the value counts of severity"
   ]
  },
  {
   "cell_type": "code",
   "execution_count": 222,
   "metadata": {},
   "outputs": [
    {
     "data": {
      "text/plain": [
       "2    1691170\n",
       "3     739461\n",
       "4      75108\n",
       "1        804\n",
       "Name: Severity, dtype: int64"
      ]
     },
     "execution_count": 222,
     "metadata": {},
     "output_type": "execute_result"
    }
   ],
   "source": [
    "df.Severity.value_counts()"
   ]
  },
  {
   "cell_type": "markdown",
   "metadata": {},
   "source": [
    "Plot the number of accidents at different severity level."
   ]
  },
  {
   "cell_type": "code",
   "execution_count": 223,
   "metadata": {},
   "outputs": [
    {
     "data": {
      "image/png": "[encoded data removed]",
      "text/plain": [
       "<Figure size 432x288 with 1 Axes>"
      ]
     },
     "metadata": {
      "needs_background": "light"
     },
     "output_type": "display_data"
    }
   ],
   "source": [
    "ax = plt.subplot(1,1,1)\n",
    "ax.bar(df.Severity.value_counts().index, df.Severity.value_counts().values)\n",
    "ax.set_xlabel('Severity', fontsize=14)\n",
    "ax.set_ylabel('Counts', fontsize=14)\n",
    "ax.set_xticks([1,2,3,4])\n",
    "ax.set_ylim(0, 2000000)\n",
    "for i in ax.patches:\n",
    "    ax.text(i.get_x(), i.get_height()+10000, \\\n",
    "            i.get_height(), fontsize=15,\n",
    "                color='grey')"
   ]
  },
  {
   "cell_type": "markdown",
   "metadata": {},
   "source": [
    "There is no outlier for the Severity variable."
   ]
  },
  {
   "cell_type": "code",
   "execution_count": 6,
   "metadata": {},
   "outputs": [
    {
     "data": {
      "text/plain": [
       "[4, 4, 4, 4, 4, 4, 4, 4, 4, 4]"
      ]
     },
     "execution_count": 6,
     "metadata": {},
     "output_type": "execute_result"
    }
   ],
   "source": [
    "sorted(df.Severity)[-10:]"
   ]
  },
  {
   "cell_type": "code",
   "execution_count": 7,
   "metadata": {},
   "outputs": [
    {
     "data": {
      "text/plain": [
       "[1, 1, 1, 1, 1, 1, 1, 1, 1, 1]"
      ]
     },
     "execution_count": 7,
     "metadata": {},
     "output_type": "execute_result"
    }
   ],
   "source": [
    "sorted(df.Severity)[: 10]"
   ]
  },
  {
   "cell_type": "markdown",
   "metadata": {},
   "source": [
    "Computer summary statistics."
   ]
  },
  {
   "cell_type": "code",
   "execution_count": 8,
   "metadata": {},
   "outputs": [
    {
     "name": "stdout",
     "output_type": "stream",
     "text": [
      "mean: 2.354619331056713 \n",
      "variance: 0.28943490178580694 \n",
      "standard deviation: 0.5379915443441532\n"
     ]
    }
   ],
   "source": [
    "mean = df.Severity.mean()\n",
    "var = df.Severity.var()\n",
    "std = df.Severity.std()\n",
    "print('mean:', mean, '\\nvariance:', var,'\\nstandard deviation:', std)"
   ]
  },
  {
   "cell_type": "markdown",
   "metadata": {},
   "source": [
    "Plot a histogram with the variable Temperature, and you can see no ouliter in this variable."
   ]
  },
  {
   "cell_type": "code",
   "execution_count": 9,
   "metadata": {},
   "outputs": [
    {
     "data": {
      "text/plain": [
       "Text(0, 0.5, 'Frequency')"
      ]
     },
     "execution_count": 9,
     "metadata": {},
     "output_type": "execute_result"
    },
    {
     "data": {
      "image/png": "[encoded data removed]",
      "text/plain": [
       "<Figure size 432x288 with 1 Axes>"
      ]
     },
     "metadata": {
      "needs_background": "light"
     },
     "output_type": "display_data"
    }
   ],
   "source": [
    "df['Temperature(F)'].hist(bins=100)\n",
    "plt.xlabel('Temperature(F)', fontsize=14)\n",
    "plt.ylabel('Frequency', fontsize=14)"
   ]
  },
  {
   "cell_type": "markdown",
   "metadata": {},
   "source": [
    "Identify outliers."
   ]
  },
  {
   "cell_type": "code",
   "execution_count": 10,
   "metadata": {},
   "outputs": [
    {
     "data": {
      "text/plain": [
       "[118.4,\n",
       " 122.0,\n",
       " 122.0,\n",
       " 122.0,\n",
       " 123.8,\n",
       " 127.4,\n",
       " 129.2,\n",
       " 129.2,\n",
       " 129.2,\n",
       " 129.2,\n",
       " 132.6,\n",
       " 136.4,\n",
       " 136.4,\n",
       " 136.4,\n",
       " 140.0,\n",
       " 143.6,\n",
       " 161.6,\n",
       " 167.0,\n",
       " 168.8,\n",
       " 170.6]"
      ]
     },
     "execution_count": 10,
     "metadata": {},
     "output_type": "execute_result"
    }
   ],
   "source": [
    "sorted(df['Temperature(F)'])[-20:]"
   ]
  },
  {
   "cell_type": "markdown",
   "metadata": {},
   "source": [
    "Check the largest Temperature, the highest temperature recorded in Illinois was 117 °F, the hottest temperature ever in Texas was 120 °F, the hottest temperature ever recorded in Nebraska was 118 °F, the highest temperature recorded in Connecticut was 106 °F, the hottest temperature ever recorded in Arizona was 128 °F, the hottest temperature ever recorded in Nevada was 125 °F. Thus, except for the 118.4 °F in TX, 118.4 °F in AZ, and 118.4 °F in NV, the rest of the temperature is out of the normal temperature range."
   ]
  },
  {
   "cell_type": "code",
   "execution_count": 11,
   "metadata": {},
   "outputs": [
    {
     "data": {
      "text/html": [
       "<div>\n",
       "<style scoped>\n",
       "    .dataframe tbody tr th:only-of-type {\n",
       "        vertical-align: middle;\n",
       "    }\n",
       "\n",
       "    .dataframe tbody tr th {\n",
       "        vertical-align: top;\n",
       "    }\n",
       "\n",
       "    .dataframe thead th {\n",
       "        text-align: right;\n",
       "    }\n",
       "</style>\n",
       "<table border=\"1\" class=\"dataframe\">\n",
       "  <thead>\n",
       "    <tr style=\"text-align: right;\">\n",
       "      <th></th>\n",
       "      <th>ID</th>\n",
       "      <th>Severity</th>\n",
       "      <th>City</th>\n",
       "      <th>State</th>\n",
       "      <th>Weather_Condition</th>\n",
       "      <th>Temperature(F)</th>\n",
       "      <th>Humidity(%)</th>\n",
       "      <th>Pressure(in)</th>\n",
       "      <th>Visibility(mi)</th>\n",
       "      <th>Wind_Speed(mph)</th>\n",
       "      <th>Sunrise_Sunset</th>\n",
       "    </tr>\n",
       "  </thead>\n",
       "  <tbody>\n",
       "    <tr>\n",
       "      <td>177681</td>\n",
       "      <td>A-177683</td>\n",
       "      <td>3</td>\n",
       "      <td>La Salle</td>\n",
       "      <td>IL</td>\n",
       "      <td>Clear</td>\n",
       "      <td>132.6</td>\n",
       "      <td>100.0</td>\n",
       "      <td>29.80</td>\n",
       "      <td>10.0</td>\n",
       "      <td>16.1</td>\n",
       "      <td>Day</td>\n",
       "    </tr>\n",
       "    <tr>\n",
       "      <td>273855</td>\n",
       "      <td>A-273857</td>\n",
       "      <td>2</td>\n",
       "      <td>Pflugerville</td>\n",
       "      <td>TX</td>\n",
       "      <td>Clear</td>\n",
       "      <td>143.6</td>\n",
       "      <td>71.0</td>\n",
       "      <td>30.18</td>\n",
       "      <td>8.0</td>\n",
       "      <td>5.8</td>\n",
       "      <td>Day</td>\n",
       "    </tr>\n",
       "    <tr>\n",
       "      <td>273861</td>\n",
       "      <td>A-273863</td>\n",
       "      <td>2</td>\n",
       "      <td>Manor</td>\n",
       "      <td>TX</td>\n",
       "      <td>Clear</td>\n",
       "      <td>136.4</td>\n",
       "      <td>60.0</td>\n",
       "      <td>30.17</td>\n",
       "      <td>10.0</td>\n",
       "      <td>6.9</td>\n",
       "      <td>Day</td>\n",
       "    </tr>\n",
       "    <tr>\n",
       "      <td>273862</td>\n",
       "      <td>A-273864</td>\n",
       "      <td>2</td>\n",
       "      <td>Manor</td>\n",
       "      <td>TX</td>\n",
       "      <td>Clear</td>\n",
       "      <td>136.4</td>\n",
       "      <td>60.0</td>\n",
       "      <td>30.17</td>\n",
       "      <td>10.0</td>\n",
       "      <td>6.9</td>\n",
       "      <td>Day</td>\n",
       "    </tr>\n",
       "    <tr>\n",
       "      <td>289272</td>\n",
       "      <td>A-289275</td>\n",
       "      <td>2</td>\n",
       "      <td>Austin</td>\n",
       "      <td>TX</td>\n",
       "      <td>Clear</td>\n",
       "      <td>122.0</td>\n",
       "      <td>66.0</td>\n",
       "      <td>29.86</td>\n",
       "      <td>10.0</td>\n",
       "      <td>9.2</td>\n",
       "      <td>Day</td>\n",
       "    </tr>\n",
       "    <tr>\n",
       "      <td>289294</td>\n",
       "      <td>A-289297</td>\n",
       "      <td>2</td>\n",
       "      <td>Austin</td>\n",
       "      <td>TX</td>\n",
       "      <td>Clear</td>\n",
       "      <td>122.0</td>\n",
       "      <td>66.0</td>\n",
       "      <td>29.86</td>\n",
       "      <td>10.0</td>\n",
       "      <td>9.2</td>\n",
       "      <td>Day</td>\n",
       "    </tr>\n",
       "    <tr>\n",
       "      <td>289302</td>\n",
       "      <td>A-289305</td>\n",
       "      <td>2</td>\n",
       "      <td>Austin</td>\n",
       "      <td>TX</td>\n",
       "      <td>Clear</td>\n",
       "      <td>122.0</td>\n",
       "      <td>66.0</td>\n",
       "      <td>29.86</td>\n",
       "      <td>10.0</td>\n",
       "      <td>9.2</td>\n",
       "      <td>Day</td>\n",
       "    </tr>\n",
       "    <tr>\n",
       "      <td>289330</td>\n",
       "      <td>A-289333</td>\n",
       "      <td>2</td>\n",
       "      <td>Pflugerville</td>\n",
       "      <td>TX</td>\n",
       "      <td>Clear</td>\n",
       "      <td>118.4</td>\n",
       "      <td>65.0</td>\n",
       "      <td>29.86</td>\n",
       "      <td>10.0</td>\n",
       "      <td>6.9</td>\n",
       "      <td>Day</td>\n",
       "    </tr>\n",
       "    <tr>\n",
       "      <td>291722</td>\n",
       "      <td>A-291725</td>\n",
       "      <td>3</td>\n",
       "      <td>Austin</td>\n",
       "      <td>TX</td>\n",
       "      <td>Overcast</td>\n",
       "      <td>136.4</td>\n",
       "      <td>86.0</td>\n",
       "      <td>29.92</td>\n",
       "      <td>9.0</td>\n",
       "      <td>15.0</td>\n",
       "      <td>Day</td>\n",
       "    </tr>\n",
       "    <tr>\n",
       "      <td>292021</td>\n",
       "      <td>A-292024</td>\n",
       "      <td>2</td>\n",
       "      <td>Pflugerville</td>\n",
       "      <td>TX</td>\n",
       "      <td>Mostly Cloudy</td>\n",
       "      <td>161.6</td>\n",
       "      <td>96.0</td>\n",
       "      <td>30.00</td>\n",
       "      <td>10.0</td>\n",
       "      <td>8.1</td>\n",
       "      <td>Day</td>\n",
       "    </tr>\n",
       "    <tr>\n",
       "      <td>292040</td>\n",
       "      <td>A-292043</td>\n",
       "      <td>2</td>\n",
       "      <td>Pflugerville</td>\n",
       "      <td>TX</td>\n",
       "      <td>Partly Cloudy</td>\n",
       "      <td>140.0</td>\n",
       "      <td>74.0</td>\n",
       "      <td>29.93</td>\n",
       "      <td>10.0</td>\n",
       "      <td>8.1</td>\n",
       "      <td>Day</td>\n",
       "    </tr>\n",
       "    <tr>\n",
       "      <td>292329</td>\n",
       "      <td>A-292332</td>\n",
       "      <td>2</td>\n",
       "      <td>Round Rock</td>\n",
       "      <td>TX</td>\n",
       "      <td>Mostly Cloudy</td>\n",
       "      <td>118.4</td>\n",
       "      <td>77.0</td>\n",
       "      <td>30.15</td>\n",
       "      <td>10.0</td>\n",
       "      <td>24.2</td>\n",
       "      <td>Day</td>\n",
       "    </tr>\n",
       "    <tr>\n",
       "      <td>363913</td>\n",
       "      <td>A-363916</td>\n",
       "      <td>2</td>\n",
       "      <td>Bellevue</td>\n",
       "      <td>NE</td>\n",
       "      <td>Clear</td>\n",
       "      <td>123.8</td>\n",
       "      <td>100.0</td>\n",
       "      <td>29.89</td>\n",
       "      <td>10.0</td>\n",
       "      <td>3.5</td>\n",
       "      <td>Day</td>\n",
       "    </tr>\n",
       "    <tr>\n",
       "      <td>504594</td>\n",
       "      <td>A-504600</td>\n",
       "      <td>3</td>\n",
       "      <td>Waterbury</td>\n",
       "      <td>CT</td>\n",
       "      <td>Scattered Clouds</td>\n",
       "      <td>167.0</td>\n",
       "      <td>5.0</td>\n",
       "      <td>29.94</td>\n",
       "      <td>10.0</td>\n",
       "      <td>3.5</td>\n",
       "      <td>Day</td>\n",
       "    </tr>\n",
       "    <tr>\n",
       "      <td>1296433</td>\n",
       "      <td>A-1296449</td>\n",
       "      <td>2</td>\n",
       "      <td>Plano</td>\n",
       "      <td>TX</td>\n",
       "      <td>Clear</td>\n",
       "      <td>129.2</td>\n",
       "      <td>4.0</td>\n",
       "      <td>30.06</td>\n",
       "      <td>10.0</td>\n",
       "      <td>11.5</td>\n",
       "      <td>Day</td>\n",
       "    </tr>\n",
       "    <tr>\n",
       "      <td>1296437</td>\n",
       "      <td>A-1296453</td>\n",
       "      <td>2</td>\n",
       "      <td>Richardson</td>\n",
       "      <td>TX</td>\n",
       "      <td>Clear</td>\n",
       "      <td>129.2</td>\n",
       "      <td>4.0</td>\n",
       "      <td>30.06</td>\n",
       "      <td>10.0</td>\n",
       "      <td>11.5</td>\n",
       "      <td>Day</td>\n",
       "    </tr>\n",
       "    <tr>\n",
       "      <td>2264293</td>\n",
       "      <td>A-2264317</td>\n",
       "      <td>3</td>\n",
       "      <td>Round Rock</td>\n",
       "      <td>TX</td>\n",
       "      <td>Clear</td>\n",
       "      <td>127.4</td>\n",
       "      <td>63.0</td>\n",
       "      <td>30.18</td>\n",
       "      <td>9.0</td>\n",
       "      <td>5.8</td>\n",
       "      <td>Day</td>\n",
       "    </tr>\n",
       "    <tr>\n",
       "      <td>2271076</td>\n",
       "      <td>A-2271100</td>\n",
       "      <td>2</td>\n",
       "      <td>Pflugerville</td>\n",
       "      <td>TX</td>\n",
       "      <td>Scattered Clouds</td>\n",
       "      <td>129.2</td>\n",
       "      <td>95.0</td>\n",
       "      <td>30.00</td>\n",
       "      <td>10.0</td>\n",
       "      <td>10.4</td>\n",
       "      <td>Day</td>\n",
       "    </tr>\n",
       "    <tr>\n",
       "      <td>2271077</td>\n",
       "      <td>A-2271101</td>\n",
       "      <td>2</td>\n",
       "      <td>Pflugerville</td>\n",
       "      <td>TX</td>\n",
       "      <td>Scattered Clouds</td>\n",
       "      <td>129.2</td>\n",
       "      <td>95.0</td>\n",
       "      <td>30.00</td>\n",
       "      <td>10.0</td>\n",
       "      <td>10.4</td>\n",
       "      <td>Day</td>\n",
       "    </tr>\n",
       "    <tr>\n",
       "      <td>2271290</td>\n",
       "      <td>A-2271314</td>\n",
       "      <td>2</td>\n",
       "      <td>Pflugerville</td>\n",
       "      <td>TX</td>\n",
       "      <td>Overcast</td>\n",
       "      <td>118.4</td>\n",
       "      <td>90.0</td>\n",
       "      <td>30.15</td>\n",
       "      <td>10.0</td>\n",
       "      <td>23.0</td>\n",
       "      <td>Day</td>\n",
       "    </tr>\n",
       "    <tr>\n",
       "      <td>2468828</td>\n",
       "      <td>A-2468852</td>\n",
       "      <td>2</td>\n",
       "      <td>Phoenix</td>\n",
       "      <td>AZ</td>\n",
       "      <td>Scattered Clouds</td>\n",
       "      <td>118.4</td>\n",
       "      <td>5.0</td>\n",
       "      <td>29.66</td>\n",
       "      <td>10.0</td>\n",
       "      <td>11.5</td>\n",
       "      <td>Day</td>\n",
       "    </tr>\n",
       "    <tr>\n",
       "      <td>2468951</td>\n",
       "      <td>A-2468975</td>\n",
       "      <td>2</td>\n",
       "      <td>Laughlin</td>\n",
       "      <td>NV</td>\n",
       "      <td>Clear</td>\n",
       "      <td>118.4</td>\n",
       "      <td>6.0</td>\n",
       "      <td>29.62</td>\n",
       "      <td>10.0</td>\n",
       "      <td>8.1</td>\n",
       "      <td>Day</td>\n",
       "    </tr>\n",
       "    <tr>\n",
       "      <td>2631256</td>\n",
       "      <td>A-2631280</td>\n",
       "      <td>2</td>\n",
       "      <td>Chandler</td>\n",
       "      <td>AZ</td>\n",
       "      <td>Clear</td>\n",
       "      <td>170.6</td>\n",
       "      <td>4.0</td>\n",
       "      <td>29.88</td>\n",
       "      <td>10.0</td>\n",
       "      <td>6.9</td>\n",
       "      <td>Night</td>\n",
       "    </tr>\n",
       "    <tr>\n",
       "      <td>2750892</td>\n",
       "      <td>A-2750916</td>\n",
       "      <td>2</td>\n",
       "      <td>Chicago</td>\n",
       "      <td>IL</td>\n",
       "      <td>Scattered Clouds</td>\n",
       "      <td>168.8</td>\n",
       "      <td>6.0</td>\n",
       "      <td>29.98</td>\n",
       "      <td>10.0</td>\n",
       "      <td>13.8</td>\n",
       "      <td>Day</td>\n",
       "    </tr>\n",
       "  </tbody>\n",
       "</table>\n",
       "</div>"
      ],
      "text/plain": [
       "                ID  Severity          City State Weather_Condition  \\\n",
       "177681    A-177683         3      La Salle    IL             Clear   \n",
       "273855    A-273857         2  Pflugerville    TX             Clear   \n",
       "273861    A-273863         2         Manor    TX             Clear   \n",
       "273862    A-273864         2         Manor    TX             Clear   \n",
       "289272    A-289275         2        Austin    TX             Clear   \n",
       "289294    A-289297         2        Austin    TX             Clear   \n",
       "289302    A-289305         2        Austin    TX             Clear   \n",
       "289330    A-289333         2  Pflugerville    TX             Clear   \n",
       "291722    A-291725         3        Austin    TX          Overcast   \n",
       "292021    A-292024         2  Pflugerville    TX     Mostly Cloudy   \n",
       "292040    A-292043         2  Pflugerville    TX     Partly Cloudy   \n",
       "292329    A-292332         2    Round Rock    TX     Mostly Cloudy   \n",
       "363913    A-363916         2      Bellevue    NE             Clear   \n",
       "504594    A-504600         3     Waterbury    CT  Scattered Clouds   \n",
       "1296433  A-1296449         2         Plano    TX             Clear   \n",
       "1296437  A-1296453         2    Richardson    TX             Clear   \n",
       "2264293  A-2264317         3    Round Rock    TX             Clear   \n",
       "2271076  A-2271100         2  Pflugerville    TX  Scattered Clouds   \n",
       "2271077  A-2271101         2  Pflugerville    TX  Scattered Clouds   \n",
       "2271290  A-2271314         2  Pflugerville    TX          Overcast   \n",
       "2468828  A-2468852         2       Phoenix    AZ  Scattered Clouds   \n",
       "2468951  A-2468975         2      Laughlin    NV             Clear   \n",
       "2631256  A-2631280         2      Chandler    AZ             Clear   \n",
       "2750892  A-2750916         2       Chicago    IL  Scattered Clouds   \n",
       "\n",
       "         Temperature(F)  Humidity(%)  Pressure(in)  Visibility(mi)  \\\n",
       "177681            132.6        100.0         29.80            10.0   \n",
       "273855            143.6         71.0         30.18             8.0   \n",
       "273861            136.4         60.0         30.17            10.0   \n",
       "273862            136.4         60.0         30.17            10.0   \n",
       "289272            122.0         66.0         29.86            10.0   \n",
       "289294            122.0         66.0         29.86            10.0   \n",
       "289302            122.0         66.0         29.86            10.0   \n",
       "289330            118.4         65.0         29.86            10.0   \n",
       "291722            136.4         86.0         29.92             9.0   \n",
       "292021            161.6         96.0         30.00            10.0   \n",
       "292040            140.0         74.0         29.93            10.0   \n",
       "292329            118.4         77.0         30.15            10.0   \n",
       "363913            123.8        100.0         29.89            10.0   \n",
       "504594            167.0          5.0         29.94            10.0   \n",
       "1296433           129.2          4.0         30.06            10.0   \n",
       "1296437           129.2          4.0         30.06            10.0   \n",
       "2264293           127.4         63.0         30.18             9.0   \n",
       "2271076           129.2         95.0         30.00            10.0   \n",
       "2271077           129.2         95.0         30.00            10.0   \n",
       "2271290           118.4         90.0         30.15            10.0   \n",
       "2468828           118.4          5.0         29.66            10.0   \n",
       "2468951           118.4          6.0         29.62            10.0   \n",
       "2631256           170.6          4.0         29.88            10.0   \n",
       "2750892           168.8          6.0         29.98            10.0   \n",
       "\n",
       "         Wind_Speed(mph) Sunrise_Sunset  \n",
       "177681              16.1            Day  \n",
       "273855               5.8            Day  \n",
       "273861               6.9            Day  \n",
       "273862               6.9            Day  \n",
       "289272               9.2            Day  \n",
       "289294               9.2            Day  \n",
       "289302               9.2            Day  \n",
       "289330               6.9            Day  \n",
       "291722              15.0            Day  \n",
       "292021               8.1            Day  \n",
       "292040               8.1            Day  \n",
       "292329              24.2            Day  \n",
       "363913               3.5            Day  \n",
       "504594               3.5            Day  \n",
       "1296433             11.5            Day  \n",
       "1296437             11.5            Day  \n",
       "2264293              5.8            Day  \n",
       "2271076             10.4            Day  \n",
       "2271077             10.4            Day  \n",
       "2271290             23.0            Day  \n",
       "2468828             11.5            Day  \n",
       "2468951              8.1            Day  \n",
       "2631256              6.9          Night  \n",
       "2750892             13.8            Day  "
      ]
     },
     "execution_count": 11,
     "metadata": {},
     "output_type": "execute_result"
    }
   ],
   "source": [
    "df[(df['Temperature(F)'] >= 118.4) & (df['Temperature(F)'] <= 170.6)]"
   ]
  },
  {
   "cell_type": "markdown",
   "metadata": {},
   "source": [
    "Remove the outliers."
   ]
  },
  {
   "cell_type": "code",
   "execution_count": 12,
   "metadata": {},
   "outputs": [],
   "source": [
    "df = df.drop([177681, 273855, 273861, 273862, 289272, 289294, 289302, 291722, 292021, 292040, 363913, 504594, 1296433, \n",
    "             1296437, 2264293, 2271076, 2271077, 2631256, 2750892])\n"
   ]
  },
  {
   "cell_type": "markdown",
   "metadata": {},
   "source": [
    "Save the data."
   ]
  },
  {
   "cell_type": "code",
   "execution_count": 13,
   "metadata": {},
   "outputs": [],
   "source": [
    "df.to_csv('df_cleaned.csv')"
   ]
  },
  {
   "cell_type": "markdown",
   "metadata": {},
   "source": [
    "Check the lowest Temperature, these accidents occured in MN, WI and IL, the lowest temperature ever in Minnesota was -60 °F,  the lowest temperature ever in Wisconsin was -59 °F, and the lowest temperature ever in Iowa was -44 °F, therefore, these temperature is within the normal temperature range."
   ]
  },
  {
   "cell_type": "code",
   "execution_count": 14,
   "metadata": {},
   "outputs": [
    {
     "data": {
      "text/plain": [
       "[-29.0, -29.0, -29.0, -29.0, -27.9, -27.9, -27.9, -27.9, -27.9, -27.9]"
      ]
     },
     "execution_count": 14,
     "metadata": {},
     "output_type": "execute_result"
    }
   ],
   "source": [
    "sorted(df['Temperature(F)'])[:10]"
   ]
  },
  {
   "cell_type": "code",
   "execution_count": 15,
   "metadata": {},
   "outputs": [
    {
     "data": {
      "text/html": [
       "<div>\n",
       "<style scoped>\n",
       "    .dataframe tbody tr th:only-of-type {\n",
       "        vertical-align: middle;\n",
       "    }\n",
       "\n",
       "    .dataframe tbody tr th {\n",
       "        vertical-align: top;\n",
       "    }\n",
       "\n",
       "    .dataframe thead th {\n",
       "        text-align: right;\n",
       "    }\n",
       "</style>\n",
       "<table border=\"1\" class=\"dataframe\">\n",
       "  <thead>\n",
       "    <tr style=\"text-align: right;\">\n",
       "      <th></th>\n",
       "      <th>ID</th>\n",
       "      <th>Severity</th>\n",
       "      <th>City</th>\n",
       "      <th>State</th>\n",
       "      <th>Weather_Condition</th>\n",
       "      <th>Temperature(F)</th>\n",
       "      <th>Humidity(%)</th>\n",
       "      <th>Pressure(in)</th>\n",
       "      <th>Visibility(mi)</th>\n",
       "      <th>Wind_Speed(mph)</th>\n",
       "      <th>Sunrise_Sunset</th>\n",
       "    </tr>\n",
       "  </thead>\n",
       "  <tbody>\n",
       "    <tr>\n",
       "      <td>1089399</td>\n",
       "      <td>A-1089412</td>\n",
       "      <td>2</td>\n",
       "      <td>Elgin</td>\n",
       "      <td>IL</td>\n",
       "      <td>Clear</td>\n",
       "      <td>-27.9</td>\n",
       "      <td>85.0</td>\n",
       "      <td>30.46</td>\n",
       "      <td>4.0</td>\n",
       "      <td>4.6</td>\n",
       "      <td>Night</td>\n",
       "    </tr>\n",
       "    <tr>\n",
       "      <td>1089421</td>\n",
       "      <td>A-1089434</td>\n",
       "      <td>3</td>\n",
       "      <td>Bettendorf</td>\n",
       "      <td>IA</td>\n",
       "      <td>Clear</td>\n",
       "      <td>-29.0</td>\n",
       "      <td>81.0</td>\n",
       "      <td>30.49</td>\n",
       "      <td>10.0</td>\n",
       "      <td>3.5</td>\n",
       "      <td>Day</td>\n",
       "    </tr>\n",
       "    <tr>\n",
       "      <td>1200587</td>\n",
       "      <td>A-1200601</td>\n",
       "      <td>3</td>\n",
       "      <td>Clearwater</td>\n",
       "      <td>MN</td>\n",
       "      <td>Clear</td>\n",
       "      <td>-27.9</td>\n",
       "      <td>62.0</td>\n",
       "      <td>30.32</td>\n",
       "      <td>10.0</td>\n",
       "      <td>15.0</td>\n",
       "      <td>Night</td>\n",
       "    </tr>\n",
       "    <tr>\n",
       "      <td>1203018</td>\n",
       "      <td>A-1203032</td>\n",
       "      <td>2</td>\n",
       "      <td>Saint Paul</td>\n",
       "      <td>MN</td>\n",
       "      <td>Clear</td>\n",
       "      <td>-27.9</td>\n",
       "      <td>69.0</td>\n",
       "      <td>30.37</td>\n",
       "      <td>10.0</td>\n",
       "      <td>9.2</td>\n",
       "      <td>Night</td>\n",
       "    </tr>\n",
       "    <tr>\n",
       "      <td>1203020</td>\n",
       "      <td>A-1203034</td>\n",
       "      <td>2</td>\n",
       "      <td>Saint Paul</td>\n",
       "      <td>MN</td>\n",
       "      <td>Clear</td>\n",
       "      <td>-27.9</td>\n",
       "      <td>69.0</td>\n",
       "      <td>30.37</td>\n",
       "      <td>10.0</td>\n",
       "      <td>9.2</td>\n",
       "      <td>Night</td>\n",
       "    </tr>\n",
       "    <tr>\n",
       "      <td>1203021</td>\n",
       "      <td>A-1203035</td>\n",
       "      <td>2</td>\n",
       "      <td>Minneapolis</td>\n",
       "      <td>MN</td>\n",
       "      <td>Clear</td>\n",
       "      <td>-27.9</td>\n",
       "      <td>69.0</td>\n",
       "      <td>30.37</td>\n",
       "      <td>10.0</td>\n",
       "      <td>9.2</td>\n",
       "      <td>Night</td>\n",
       "    </tr>\n",
       "    <tr>\n",
       "      <td>1203079</td>\n",
       "      <td>A-1203093</td>\n",
       "      <td>2</td>\n",
       "      <td>Minneapolis</td>\n",
       "      <td>MN</td>\n",
       "      <td>Overcast</td>\n",
       "      <td>-27.9</td>\n",
       "      <td>65.0</td>\n",
       "      <td>30.34</td>\n",
       "      <td>9.0</td>\n",
       "      <td>12.7</td>\n",
       "      <td>Night</td>\n",
       "    </tr>\n",
       "    <tr>\n",
       "      <td>1203080</td>\n",
       "      <td>A-1203094</td>\n",
       "      <td>2</td>\n",
       "      <td>Minneapolis</td>\n",
       "      <td>MN</td>\n",
       "      <td>Overcast</td>\n",
       "      <td>-27.9</td>\n",
       "      <td>65.0</td>\n",
       "      <td>30.34</td>\n",
       "      <td>9.0</td>\n",
       "      <td>12.7</td>\n",
       "      <td>Night</td>\n",
       "    </tr>\n",
       "    <tr>\n",
       "      <td>1203081</td>\n",
       "      <td>A-1203095</td>\n",
       "      <td>2</td>\n",
       "      <td>Minneapolis</td>\n",
       "      <td>MN</td>\n",
       "      <td>Overcast</td>\n",
       "      <td>-27.9</td>\n",
       "      <td>65.0</td>\n",
       "      <td>30.34</td>\n",
       "      <td>9.0</td>\n",
       "      <td>12.7</td>\n",
       "      <td>Night</td>\n",
       "    </tr>\n",
       "    <tr>\n",
       "      <td>1203082</td>\n",
       "      <td>A-1203096</td>\n",
       "      <td>2</td>\n",
       "      <td>Minneapolis</td>\n",
       "      <td>MN</td>\n",
       "      <td>Mostly Cloudy</td>\n",
       "      <td>-27.9</td>\n",
       "      <td>65.0</td>\n",
       "      <td>30.35</td>\n",
       "      <td>10.0</td>\n",
       "      <td>10.4</td>\n",
       "      <td>Night</td>\n",
       "    </tr>\n",
       "    <tr>\n",
       "      <td>1203088</td>\n",
       "      <td>A-1203102</td>\n",
       "      <td>2</td>\n",
       "      <td>Minneapolis</td>\n",
       "      <td>MN</td>\n",
       "      <td>Haze</td>\n",
       "      <td>-29.0</td>\n",
       "      <td>69.0</td>\n",
       "      <td>30.37</td>\n",
       "      <td>6.0</td>\n",
       "      <td>10.4</td>\n",
       "      <td>Day</td>\n",
       "    </tr>\n",
       "    <tr>\n",
       "      <td>1203089</td>\n",
       "      <td>A-1203103</td>\n",
       "      <td>2</td>\n",
       "      <td>Minneapolis</td>\n",
       "      <td>MN</td>\n",
       "      <td>Overcast</td>\n",
       "      <td>-27.9</td>\n",
       "      <td>65.0</td>\n",
       "      <td>30.38</td>\n",
       "      <td>9.0</td>\n",
       "      <td>12.7</td>\n",
       "      <td>Day</td>\n",
       "    </tr>\n",
       "    <tr>\n",
       "      <td>2669481</td>\n",
       "      <td>A-2669505</td>\n",
       "      <td>3</td>\n",
       "      <td>Clearwater</td>\n",
       "      <td>MN</td>\n",
       "      <td>Partly Cloudy</td>\n",
       "      <td>-29.0</td>\n",
       "      <td>62.0</td>\n",
       "      <td>30.33</td>\n",
       "      <td>10.0</td>\n",
       "      <td>18.4</td>\n",
       "      <td>Night</td>\n",
       "    </tr>\n",
       "    <tr>\n",
       "      <td>2669989</td>\n",
       "      <td>A-2670013</td>\n",
       "      <td>2</td>\n",
       "      <td>Minneapolis</td>\n",
       "      <td>MN</td>\n",
       "      <td>Mostly Cloudy</td>\n",
       "      <td>-27.9</td>\n",
       "      <td>65.0</td>\n",
       "      <td>30.35</td>\n",
       "      <td>10.0</td>\n",
       "      <td>10.4</td>\n",
       "      <td>Night</td>\n",
       "    </tr>\n",
       "    <tr>\n",
       "      <td>2669993</td>\n",
       "      <td>A-2670017</td>\n",
       "      <td>2</td>\n",
       "      <td>Minneapolis</td>\n",
       "      <td>MN</td>\n",
       "      <td>Clear</td>\n",
       "      <td>-27.9</td>\n",
       "      <td>69.0</td>\n",
       "      <td>30.38</td>\n",
       "      <td>10.0</td>\n",
       "      <td>9.2</td>\n",
       "      <td>Day</td>\n",
       "    </tr>\n",
       "    <tr>\n",
       "      <td>2669994</td>\n",
       "      <td>A-2670018</td>\n",
       "      <td>2</td>\n",
       "      <td>Minneapolis</td>\n",
       "      <td>MN</td>\n",
       "      <td>Haze</td>\n",
       "      <td>-29.0</td>\n",
       "      <td>69.0</td>\n",
       "      <td>30.37</td>\n",
       "      <td>6.0</td>\n",
       "      <td>10.4</td>\n",
       "      <td>Day</td>\n",
       "    </tr>\n",
       "  </tbody>\n",
       "</table>\n",
       "</div>"
      ],
      "text/plain": [
       "                ID  Severity         City State Weather_Condition  \\\n",
       "1089399  A-1089412         2        Elgin    IL             Clear   \n",
       "1089421  A-1089434         3   Bettendorf    IA             Clear   \n",
       "1200587  A-1200601         3   Clearwater    MN             Clear   \n",
       "1203018  A-1203032         2   Saint Paul    MN             Clear   \n",
       "1203020  A-1203034         2   Saint Paul    MN             Clear   \n",
       "1203021  A-1203035         2  Minneapolis    MN             Clear   \n",
       "1203079  A-1203093         2  Minneapolis    MN          Overcast   \n",
       "1203080  A-1203094         2  Minneapolis    MN          Overcast   \n",
       "1203081  A-1203095         2  Minneapolis    MN          Overcast   \n",
       "1203082  A-1203096         2  Minneapolis    MN     Mostly Cloudy   \n",
       "1203088  A-1203102         2  Minneapolis    MN              Haze   \n",
       "1203089  A-1203103         2  Minneapolis    MN          Overcast   \n",
       "2669481  A-2669505         3   Clearwater    MN     Partly Cloudy   \n",
       "2669989  A-2670013         2  Minneapolis    MN     Mostly Cloudy   \n",
       "2669993  A-2670017         2  Minneapolis    MN             Clear   \n",
       "2669994  A-2670018         2  Minneapolis    MN              Haze   \n",
       "\n",
       "         Temperature(F)  Humidity(%)  Pressure(in)  Visibility(mi)  \\\n",
       "1089399           -27.9         85.0         30.46             4.0   \n",
       "1089421           -29.0         81.0         30.49            10.0   \n",
       "1200587           -27.9         62.0         30.32            10.0   \n",
       "1203018           -27.9         69.0         30.37            10.0   \n",
       "1203020           -27.9         69.0         30.37            10.0   \n",
       "1203021           -27.9         69.0         30.37            10.0   \n",
       "1203079           -27.9         65.0         30.34             9.0   \n",
       "1203080           -27.9         65.0         30.34             9.0   \n",
       "1203081           -27.9         65.0         30.34             9.0   \n",
       "1203082           -27.9         65.0         30.35            10.0   \n",
       "1203088           -29.0         69.0         30.37             6.0   \n",
       "1203089           -27.9         65.0         30.38             9.0   \n",
       "2669481           -29.0         62.0         30.33            10.0   \n",
       "2669989           -27.9         65.0         30.35            10.0   \n",
       "2669993           -27.9         69.0         30.38            10.0   \n",
       "2669994           -29.0         69.0         30.37             6.0   \n",
       "\n",
       "         Wind_Speed(mph) Sunrise_Sunset  \n",
       "1089399              4.6          Night  \n",
       "1089421              3.5            Day  \n",
       "1200587             15.0          Night  \n",
       "1203018              9.2          Night  \n",
       "1203020              9.2          Night  \n",
       "1203021              9.2          Night  \n",
       "1203079             12.7          Night  \n",
       "1203080             12.7          Night  \n",
       "1203081             12.7          Night  \n",
       "1203082             10.4          Night  \n",
       "1203088             10.4            Day  \n",
       "1203089             12.7            Day  \n",
       "2669481             18.4          Night  \n",
       "2669989             10.4          Night  \n",
       "2669993              9.2            Day  \n",
       "2669994             10.4            Day  "
      ]
     },
     "execution_count": 15,
     "metadata": {},
     "output_type": "execute_result"
    }
   ],
   "source": [
    "df[(df['Temperature(F)'] >= -29.0) & (df['Temperature(F)'] <= -27.9)]"
   ]
  },
  {
   "cell_type": "markdown",
   "metadata": {},
   "source": [
    "Computer summary statistics."
   ]
  },
  {
   "cell_type": "code",
   "execution_count": 16,
   "metadata": {},
   "outputs": [
    {
     "name": "stdout",
     "output_type": "stream",
     "text": [
      "mean: 63.00426769743121 \n",
      "variance: 356.66038928762714 \n",
      "standard deviation: 18.885454436884146\n"
     ]
    }
   ],
   "source": [
    "mean = df['Temperature(F)'].mean()\n",
    "var = df['Temperature(F)'].var()\n",
    "std = df['Temperature(F)'].std()\n",
    "print('mean:', mean, '\\nvariance:', var,'\\nstandard deviation:', std)"
   ]
  },
  {
   "cell_type": "markdown",
   "metadata": {},
   "source": [
    "Plot a histogram with the variable Humidity"
   ]
  },
  {
   "cell_type": "code",
   "execution_count": 17,
   "metadata": {},
   "outputs": [
    {
     "data": {
      "text/plain": [
       "Text(0, 0.5, 'Frequency')"
      ]
     },
     "execution_count": 17,
     "metadata": {},
     "output_type": "execute_result"
    },
    {
     "data": {
      "image/png": "[encoded data removed]",
      "text/plain": [
       "<Figure size 432x288 with 1 Axes>"
      ]
     },
     "metadata": {
      "needs_background": "light"
     },
     "output_type": "display_data"
    }
   ],
   "source": [
    "df['Humidity(%)'].hist(bins=80)\n",
    "plt.xlabel('Humidity(%)', fontsize=14)\n",
    "plt.ylabel('Frequency', fontsize=14)"
   ]
  },
  {
   "cell_type": "markdown",
   "metadata": {},
   "source": [
    "Identify outliers."
   ]
  },
  {
   "cell_type": "code",
   "execution_count": 18,
   "metadata": {},
   "outputs": [
    {
     "data": {
      "text/plain": [
       "[100.0, 100.0, 100.0, 100.0, 100.0, 100.0, 100.0, 100.0, 100.0, 100.0]"
      ]
     },
     "execution_count": 18,
     "metadata": {},
     "output_type": "execute_result"
    }
   ],
   "source": [
    "sorted(df['Humidity(%)'])[-10:]"
   ]
  },
  {
   "cell_type": "markdown",
   "metadata": {},
   "source": [
    "Humidity equals to 100, which is in the normal range"
   ]
  },
  {
   "cell_type": "code",
   "execution_count": 19,
   "metadata": {},
   "outputs": [
    {
     "data": {
      "text/html": [
       "<div>\n",
       "<style scoped>\n",
       "    .dataframe tbody tr th:only-of-type {\n",
       "        vertical-align: middle;\n",
       "    }\n",
       "\n",
       "    .dataframe tbody tr th {\n",
       "        vertical-align: top;\n",
       "    }\n",
       "\n",
       "    .dataframe thead th {\n",
       "        text-align: right;\n",
       "    }\n",
       "</style>\n",
       "<table border=\"1\" class=\"dataframe\">\n",
       "  <thead>\n",
       "    <tr style=\"text-align: right;\">\n",
       "      <th></th>\n",
       "      <th>ID</th>\n",
       "      <th>Severity</th>\n",
       "      <th>City</th>\n",
       "      <th>State</th>\n",
       "      <th>Weather_Condition</th>\n",
       "      <th>Temperature(F)</th>\n",
       "      <th>Humidity(%)</th>\n",
       "      <th>Pressure(in)</th>\n",
       "      <th>Visibility(mi)</th>\n",
       "      <th>Wind_Speed(mph)</th>\n",
       "      <th>Sunrise_Sunset</th>\n",
       "    </tr>\n",
       "  </thead>\n",
       "  <tbody>\n",
       "    <tr>\n",
       "      <td>2</td>\n",
       "      <td>A-3</td>\n",
       "      <td>2</td>\n",
       "      <td>Williamsburg</td>\n",
       "      <td>OH</td>\n",
       "      <td>Overcast</td>\n",
       "      <td>36.0</td>\n",
       "      <td>100.0</td>\n",
       "      <td>29.67</td>\n",
       "      <td>10.00</td>\n",
       "      <td>3.5</td>\n",
       "      <td>Night</td>\n",
       "    </tr>\n",
       "    <tr>\n",
       "      <td>6</td>\n",
       "      <td>A-7</td>\n",
       "      <td>2</td>\n",
       "      <td>Dayton</td>\n",
       "      <td>OH</td>\n",
       "      <td>Overcast</td>\n",
       "      <td>34.0</td>\n",
       "      <td>100.0</td>\n",
       "      <td>29.66</td>\n",
       "      <td>7.00</td>\n",
       "      <td>3.5</td>\n",
       "      <td>Day</td>\n",
       "    </tr>\n",
       "    <tr>\n",
       "      <td>7</td>\n",
       "      <td>A-8</td>\n",
       "      <td>3</td>\n",
       "      <td>Dayton</td>\n",
       "      <td>OH</td>\n",
       "      <td>Overcast</td>\n",
       "      <td>34.0</td>\n",
       "      <td>100.0</td>\n",
       "      <td>29.66</td>\n",
       "      <td>7.00</td>\n",
       "      <td>3.5</td>\n",
       "      <td>Day</td>\n",
       "    </tr>\n",
       "    <tr>\n",
       "      <td>9</td>\n",
       "      <td>A-10</td>\n",
       "      <td>3</td>\n",
       "      <td>Westerville</td>\n",
       "      <td>OH</td>\n",
       "      <td>Light Rain</td>\n",
       "      <td>37.4</td>\n",
       "      <td>100.0</td>\n",
       "      <td>29.62</td>\n",
       "      <td>3.00</td>\n",
       "      <td>4.6</td>\n",
       "      <td>Day</td>\n",
       "    </tr>\n",
       "    <tr>\n",
       "      <td>11</td>\n",
       "      <td>A-12</td>\n",
       "      <td>3</td>\n",
       "      <td>Reynoldsburg</td>\n",
       "      <td>OH</td>\n",
       "      <td>Light Rain</td>\n",
       "      <td>37.4</td>\n",
       "      <td>100.0</td>\n",
       "      <td>29.62</td>\n",
       "      <td>3.00</td>\n",
       "      <td>4.6</td>\n",
       "      <td>Day</td>\n",
       "    </tr>\n",
       "    <tr>\n",
       "      <td>...</td>\n",
       "      <td>...</td>\n",
       "      <td>...</td>\n",
       "      <td>...</td>\n",
       "      <td>...</td>\n",
       "      <td>...</td>\n",
       "      <td>...</td>\n",
       "      <td>...</td>\n",
       "      <td>...</td>\n",
       "      <td>...</td>\n",
       "      <td>...</td>\n",
       "      <td>...</td>\n",
       "    </tr>\n",
       "    <tr>\n",
       "      <td>2973752</td>\n",
       "      <td>A-2973776</td>\n",
       "      <td>2</td>\n",
       "      <td>Wolf Creek</td>\n",
       "      <td>OR</td>\n",
       "      <td>Fog</td>\n",
       "      <td>57.0</td>\n",
       "      <td>100.0</td>\n",
       "      <td>26.13</td>\n",
       "      <td>0.25</td>\n",
       "      <td>0.0</td>\n",
       "      <td>Day</td>\n",
       "    </tr>\n",
       "    <tr>\n",
       "      <td>2973907</td>\n",
       "      <td>A-2973931</td>\n",
       "      <td>2</td>\n",
       "      <td>Whitmore Lake</td>\n",
       "      <td>MI</td>\n",
       "      <td>Fair</td>\n",
       "      <td>53.0</td>\n",
       "      <td>100.0</td>\n",
       "      <td>29.25</td>\n",
       "      <td>10.00</td>\n",
       "      <td>3.0</td>\n",
       "      <td>Day</td>\n",
       "    </tr>\n",
       "    <tr>\n",
       "      <td>2973939</td>\n",
       "      <td>A-2973963</td>\n",
       "      <td>2</td>\n",
       "      <td>Rosedale</td>\n",
       "      <td>MD</td>\n",
       "      <td>Cloudy</td>\n",
       "      <td>72.0</td>\n",
       "      <td>100.0</td>\n",
       "      <td>29.98</td>\n",
       "      <td>10.00</td>\n",
       "      <td>3.0</td>\n",
       "      <td>Day</td>\n",
       "    </tr>\n",
       "    <tr>\n",
       "      <td>2973988</td>\n",
       "      <td>A-2974012</td>\n",
       "      <td>2</td>\n",
       "      <td>Punta Gorda</td>\n",
       "      <td>FL</td>\n",
       "      <td>Fair</td>\n",
       "      <td>77.0</td>\n",
       "      <td>100.0</td>\n",
       "      <td>29.97</td>\n",
       "      <td>10.00</td>\n",
       "      <td>7.0</td>\n",
       "      <td>Day</td>\n",
       "    </tr>\n",
       "    <tr>\n",
       "      <td>2974165</td>\n",
       "      <td>A-2974189</td>\n",
       "      <td>2</td>\n",
       "      <td>Newport</td>\n",
       "      <td>OR</td>\n",
       "      <td>Fair</td>\n",
       "      <td>54.0</td>\n",
       "      <td>100.0</td>\n",
       "      <td>29.87</td>\n",
       "      <td>10.00</td>\n",
       "      <td>3.0</td>\n",
       "      <td>Day</td>\n",
       "    </tr>\n",
       "  </tbody>\n",
       "</table>\n",
       "<p>85425 rows × 11 columns</p>\n",
       "</div>"
      ],
      "text/plain": [
       "                ID  Severity           City State Weather_Condition  \\\n",
       "2              A-3         2   Williamsburg    OH          Overcast   \n",
       "6              A-7         2         Dayton    OH          Overcast   \n",
       "7              A-8         3         Dayton    OH          Overcast   \n",
       "9             A-10         3    Westerville    OH        Light Rain   \n",
       "11            A-12         3   Reynoldsburg    OH        Light Rain   \n",
       "...            ...       ...            ...   ...               ...   \n",
       "2973752  A-2973776         2     Wolf Creek    OR               Fog   \n",
       "2973907  A-2973931         2  Whitmore Lake    MI              Fair   \n",
       "2973939  A-2973963         2       Rosedale    MD            Cloudy   \n",
       "2973988  A-2974012         2    Punta Gorda    FL              Fair   \n",
       "2974165  A-2974189         2        Newport    OR              Fair   \n",
       "\n",
       "         Temperature(F)  Humidity(%)  Pressure(in)  Visibility(mi)  \\\n",
       "2                  36.0        100.0         29.67           10.00   \n",
       "6                  34.0        100.0         29.66            7.00   \n",
       "7                  34.0        100.0         29.66            7.00   \n",
       "9                  37.4        100.0         29.62            3.00   \n",
       "11                 37.4        100.0         29.62            3.00   \n",
       "...                 ...          ...           ...             ...   \n",
       "2973752            57.0        100.0         26.13            0.25   \n",
       "2973907            53.0        100.0         29.25           10.00   \n",
       "2973939            72.0        100.0         29.98           10.00   \n",
       "2973988            77.0        100.0         29.97           10.00   \n",
       "2974165            54.0        100.0         29.87           10.00   \n",
       "\n",
       "         Wind_Speed(mph) Sunrise_Sunset  \n",
       "2                    3.5          Night  \n",
       "6                    3.5            Day  \n",
       "7                    3.5            Day  \n",
       "9                    4.6            Day  \n",
       "11                   4.6            Day  \n",
       "...                  ...            ...  \n",
       "2973752              0.0            Day  \n",
       "2973907              3.0            Day  \n",
       "2973939              3.0            Day  \n",
       "2973988              7.0            Day  \n",
       "2974165              3.0            Day  \n",
       "\n",
       "[85425 rows x 11 columns]"
      ]
     },
     "execution_count": 19,
     "metadata": {},
     "output_type": "execute_result"
    }
   ],
   "source": [
    "df[(df['Humidity(%)'] == 100.0)]"
   ]
  },
  {
   "cell_type": "code",
   "execution_count": 20,
   "metadata": {},
   "outputs": [
    {
     "data": {
      "text/plain": [
       "[1.0, 1.0, 1.0, 1.0, 1.0, 1.0, 1.0, 1.0, 1.0, 1.0]"
      ]
     },
     "execution_count": 20,
     "metadata": {},
     "output_type": "execute_result"
    }
   ],
   "source": [
    "sorted(df['Humidity(%)'])[:10]"
   ]
  },
  {
   "cell_type": "markdown",
   "metadata": {},
   "source": [
    "There is no outlier in Humidity"
   ]
  },
  {
   "cell_type": "code",
   "execution_count": 21,
   "metadata": {
    "scrolled": true
   },
   "outputs": [
    {
     "data": {
      "text/html": [
       "<div>\n",
       "<style scoped>\n",
       "    .dataframe tbody tr th:only-of-type {\n",
       "        vertical-align: middle;\n",
       "    }\n",
       "\n",
       "    .dataframe tbody tr th {\n",
       "        vertical-align: top;\n",
       "    }\n",
       "\n",
       "    .dataframe thead th {\n",
       "        text-align: right;\n",
       "    }\n",
       "</style>\n",
       "<table border=\"1\" class=\"dataframe\">\n",
       "  <thead>\n",
       "    <tr style=\"text-align: right;\">\n",
       "      <th></th>\n",
       "      <th>ID</th>\n",
       "      <th>Severity</th>\n",
       "      <th>City</th>\n",
       "      <th>State</th>\n",
       "      <th>Weather_Condition</th>\n",
       "      <th>Temperature(F)</th>\n",
       "      <th>Humidity(%)</th>\n",
       "      <th>Pressure(in)</th>\n",
       "      <th>Visibility(mi)</th>\n",
       "      <th>Wind_Speed(mph)</th>\n",
       "      <th>Sunrise_Sunset</th>\n",
       "    </tr>\n",
       "  </thead>\n",
       "  <tbody>\n",
       "    <tr>\n",
       "      <td>1855155</td>\n",
       "      <td>A-1855178</td>\n",
       "      <td>2</td>\n",
       "      <td>Downingtown</td>\n",
       "      <td>PA</td>\n",
       "      <td>Fair</td>\n",
       "      <td>68.0</td>\n",
       "      <td>1.0</td>\n",
       "      <td>29.59</td>\n",
       "      <td>10.0</td>\n",
       "      <td>8.0</td>\n",
       "      <td>Day</td>\n",
       "    </tr>\n",
       "    <tr>\n",
       "      <td>2535698</td>\n",
       "      <td>A-2535722</td>\n",
       "      <td>2</td>\n",
       "      <td>Huntington Beach</td>\n",
       "      <td>CA</td>\n",
       "      <td>Fair</td>\n",
       "      <td>86.0</td>\n",
       "      <td>1.0</td>\n",
       "      <td>29.89</td>\n",
       "      <td>10.0</td>\n",
       "      <td>15.0</td>\n",
       "      <td>Day</td>\n",
       "    </tr>\n",
       "    <tr>\n",
       "      <td>2560852</td>\n",
       "      <td>A-2560876</td>\n",
       "      <td>2</td>\n",
       "      <td>Carlsbad</td>\n",
       "      <td>CA</td>\n",
       "      <td>Fair</td>\n",
       "      <td>77.0</td>\n",
       "      <td>1.0</td>\n",
       "      <td>29.71</td>\n",
       "      <td>10.0</td>\n",
       "      <td>18.0</td>\n",
       "      <td>Day</td>\n",
       "    </tr>\n",
       "    <tr>\n",
       "      <td>2560860</td>\n",
       "      <td>A-2560884</td>\n",
       "      <td>2</td>\n",
       "      <td>Carlsbad</td>\n",
       "      <td>CA</td>\n",
       "      <td>Fair</td>\n",
       "      <td>77.0</td>\n",
       "      <td>1.0</td>\n",
       "      <td>29.71</td>\n",
       "      <td>10.0</td>\n",
       "      <td>18.0</td>\n",
       "      <td>Day</td>\n",
       "    </tr>\n",
       "    <tr>\n",
       "      <td>2560938</td>\n",
       "      <td>A-2560962</td>\n",
       "      <td>2</td>\n",
       "      <td>Carlsbad</td>\n",
       "      <td>CA</td>\n",
       "      <td>Fair</td>\n",
       "      <td>75.0</td>\n",
       "      <td>1.0</td>\n",
       "      <td>29.72</td>\n",
       "      <td>10.0</td>\n",
       "      <td>16.0</td>\n",
       "      <td>Day</td>\n",
       "    </tr>\n",
       "    <tr>\n",
       "      <td>2560948</td>\n",
       "      <td>A-2560972</td>\n",
       "      <td>2</td>\n",
       "      <td>Carlsbad</td>\n",
       "      <td>CA</td>\n",
       "      <td>Fair</td>\n",
       "      <td>75.0</td>\n",
       "      <td>1.0</td>\n",
       "      <td>29.72</td>\n",
       "      <td>10.0</td>\n",
       "      <td>16.0</td>\n",
       "      <td>Day</td>\n",
       "    </tr>\n",
       "    <tr>\n",
       "      <td>2563775</td>\n",
       "      <td>A-2563799</td>\n",
       "      <td>2</td>\n",
       "      <td>Moreno Valley</td>\n",
       "      <td>CA</td>\n",
       "      <td>Fair</td>\n",
       "      <td>78.0</td>\n",
       "      <td>1.0</td>\n",
       "      <td>28.48</td>\n",
       "      <td>10.0</td>\n",
       "      <td>13.0</td>\n",
       "      <td>Day</td>\n",
       "    </tr>\n",
       "    <tr>\n",
       "      <td>2563813</td>\n",
       "      <td>A-2563837</td>\n",
       "      <td>2</td>\n",
       "      <td>Temecula</td>\n",
       "      <td>CA</td>\n",
       "      <td>Fair</td>\n",
       "      <td>79.0</td>\n",
       "      <td>1.0</td>\n",
       "      <td>28.64</td>\n",
       "      <td>10.0</td>\n",
       "      <td>5.0</td>\n",
       "      <td>Day</td>\n",
       "    </tr>\n",
       "    <tr>\n",
       "      <td>2563823</td>\n",
       "      <td>A-2563847</td>\n",
       "      <td>2</td>\n",
       "      <td>Perris</td>\n",
       "      <td>CA</td>\n",
       "      <td>Fair</td>\n",
       "      <td>81.0</td>\n",
       "      <td>1.0</td>\n",
       "      <td>28.45</td>\n",
       "      <td>10.0</td>\n",
       "      <td>14.0</td>\n",
       "      <td>Day</td>\n",
       "    </tr>\n",
       "    <tr>\n",
       "      <td>2563977</td>\n",
       "      <td>A-2564001</td>\n",
       "      <td>2</td>\n",
       "      <td>Murrieta</td>\n",
       "      <td>CA</td>\n",
       "      <td>Fair</td>\n",
       "      <td>82.0</td>\n",
       "      <td>1.0</td>\n",
       "      <td>28.60</td>\n",
       "      <td>10.0</td>\n",
       "      <td>5.0</td>\n",
       "      <td>Day</td>\n",
       "    </tr>\n",
       "    <tr>\n",
       "      <td>2563985</td>\n",
       "      <td>A-2564009</td>\n",
       "      <td>2</td>\n",
       "      <td>Pala</td>\n",
       "      <td>CA</td>\n",
       "      <td>Fair</td>\n",
       "      <td>82.0</td>\n",
       "      <td>1.0</td>\n",
       "      <td>28.60</td>\n",
       "      <td>10.0</td>\n",
       "      <td>5.0</td>\n",
       "      <td>Day</td>\n",
       "    </tr>\n",
       "    <tr>\n",
       "      <td>2564003</td>\n",
       "      <td>A-2564027</td>\n",
       "      <td>2</td>\n",
       "      <td>Temecula</td>\n",
       "      <td>CA</td>\n",
       "      <td>Fair</td>\n",
       "      <td>82.0</td>\n",
       "      <td>1.0</td>\n",
       "      <td>28.60</td>\n",
       "      <td>10.0</td>\n",
       "      <td>0.0</td>\n",
       "      <td>Day</td>\n",
       "    </tr>\n",
       "  </tbody>\n",
       "</table>\n",
       "</div>"
      ],
      "text/plain": [
       "                ID  Severity              City State Weather_Condition  \\\n",
       "1855155  A-1855178         2       Downingtown    PA              Fair   \n",
       "2535698  A-2535722         2  Huntington Beach    CA              Fair   \n",
       "2560852  A-2560876         2          Carlsbad    CA              Fair   \n",
       "2560860  A-2560884         2          Carlsbad    CA              Fair   \n",
       "2560938  A-2560962         2          Carlsbad    CA              Fair   \n",
       "2560948  A-2560972         2          Carlsbad    CA              Fair   \n",
       "2563775  A-2563799         2     Moreno Valley    CA              Fair   \n",
       "2563813  A-2563837         2          Temecula    CA              Fair   \n",
       "2563823  A-2563847         2            Perris    CA              Fair   \n",
       "2563977  A-2564001         2          Murrieta    CA              Fair   \n",
       "2563985  A-2564009         2              Pala    CA              Fair   \n",
       "2564003  A-2564027         2          Temecula    CA              Fair   \n",
       "\n",
       "         Temperature(F)  Humidity(%)  Pressure(in)  Visibility(mi)  \\\n",
       "1855155            68.0          1.0         29.59            10.0   \n",
       "2535698            86.0          1.0         29.89            10.0   \n",
       "2560852            77.0          1.0         29.71            10.0   \n",
       "2560860            77.0          1.0         29.71            10.0   \n",
       "2560938            75.0          1.0         29.72            10.0   \n",
       "2560948            75.0          1.0         29.72            10.0   \n",
       "2563775            78.0          1.0         28.48            10.0   \n",
       "2563813            79.0          1.0         28.64            10.0   \n",
       "2563823            81.0          1.0         28.45            10.0   \n",
       "2563977            82.0          1.0         28.60            10.0   \n",
       "2563985            82.0          1.0         28.60            10.0   \n",
       "2564003            82.0          1.0         28.60            10.0   \n",
       "\n",
       "         Wind_Speed(mph) Sunrise_Sunset  \n",
       "1855155              8.0            Day  \n",
       "2535698             15.0            Day  \n",
       "2560852             18.0            Day  \n",
       "2560860             18.0            Day  \n",
       "2560938             16.0            Day  \n",
       "2560948             16.0            Day  \n",
       "2563775             13.0            Day  \n",
       "2563813              5.0            Day  \n",
       "2563823             14.0            Day  \n",
       "2563977              5.0            Day  \n",
       "2563985              5.0            Day  \n",
       "2564003              0.0            Day  "
      ]
     },
     "execution_count": 21,
     "metadata": {},
     "output_type": "execute_result"
    }
   ],
   "source": [
    "df[(df['Humidity(%)'] == 1.0)]"
   ]
  },
  {
   "cell_type": "markdown",
   "metadata": {},
   "source": [
    "Computer summary statistics."
   ]
  },
  {
   "cell_type": "code",
   "execution_count": 22,
   "metadata": {},
   "outputs": [
    {
     "name": "stdout",
     "output_type": "stream",
     "text": [
      "mean: 64.2574262323662 \n",
      "variance: 501.5257759736768 \n",
      "standard deviation: 22.394771174845186\n"
     ]
    }
   ],
   "source": [
    "mean = df['Humidity(%)'].mean()\n",
    "var = df['Humidity(%)'].var()\n",
    "std  = df['Humidity(%)'].std()\n",
    "print('mean:', mean, '\\nvariance:', var,'\\nstandard deviation:', std)"
   ]
  },
  {
   "cell_type": "markdown",
   "metadata": {},
   "source": [
    "Plot a histogram with the Pressure variable."
   ]
  },
  {
   "cell_type": "code",
   "execution_count": 170,
   "metadata": {},
   "outputs": [
    {
     "data": {
      "text/plain": [
       "Text(0, 0.5, 'Frequency')"
      ]
     },
     "execution_count": 170,
     "metadata": {},
     "output_type": "execute_result"
    },
    {
     "data": {
      "image/png": "[encoded data removed]",
      "text/plain": [
       "<Figure size 432x288 with 1 Axes>"
      ]
     },
     "metadata": {
      "needs_background": "light"
     },
     "output_type": "display_data"
    }
   ],
   "source": [
    "df['Pressure(in)'].hist(bins=50)\n",
    "plt.xlabel('Pressure(in)', fontsize=14)\n",
    "plt.ylabel('Frequency', fontsize=14)"
   ]
  },
  {
   "cell_type": "markdown",
   "metadata": {},
   "source": [
    "Identify outliers."
   ]
  },
  {
   "cell_type": "code",
   "execution_count": 24,
   "metadata": {},
   "outputs": [
    {
     "data": {
      "text/plain": [
       "[31.08, 31.1, 31.1, 31.1, 31.12, 31.12, 31.12, 31.12, 31.15, 31.15]"
      ]
     },
     "execution_count": 24,
     "metadata": {},
     "output_type": "execute_result"
    }
   ],
   "source": [
    "sorted(df['Pressure(in)'])[-10:]"
   ]
  },
  {
   "cell_type": "code",
   "execution_count": 25,
   "metadata": {},
   "outputs": [
    {
     "data": {
      "text/plain": [
       "[0.0, 0.02, 0.29, 0.29, 0.39, 2.99, 2.99, 2.99, 2.99, 2.99]"
      ]
     },
     "execution_count": 25,
     "metadata": {},
     "output_type": "execute_result"
    }
   ],
   "source": [
    "sorted(df['Pressure(in)'])[:10]"
   ]
  },
  {
   "cell_type": "markdown",
   "metadata": {},
   "source": [
    "When the air pressure is below 1.59 inch of mercury, human is difficult to adapt it, so 0.0in, 0.02in, 0.29in and 0.30in are not normal, these are outliers."
   ]
  },
  {
   "cell_type": "code",
   "execution_count": 26,
   "metadata": {},
   "outputs": [
    {
     "data": {
      "text/html": [
       "<div>\n",
       "<style scoped>\n",
       "    .dataframe tbody tr th:only-of-type {\n",
       "        vertical-align: middle;\n",
       "    }\n",
       "\n",
       "    .dataframe tbody tr th {\n",
       "        vertical-align: top;\n",
       "    }\n",
       "\n",
       "    .dataframe thead th {\n",
       "        text-align: right;\n",
       "    }\n",
       "</style>\n",
       "<table border=\"1\" class=\"dataframe\">\n",
       "  <thead>\n",
       "    <tr style=\"text-align: right;\">\n",
       "      <th></th>\n",
       "      <th>ID</th>\n",
       "      <th>Severity</th>\n",
       "      <th>City</th>\n",
       "      <th>State</th>\n",
       "      <th>Weather_Condition</th>\n",
       "      <th>Temperature(F)</th>\n",
       "      <th>Humidity(%)</th>\n",
       "      <th>Pressure(in)</th>\n",
       "      <th>Visibility(mi)</th>\n",
       "      <th>Wind_Speed(mph)</th>\n",
       "      <th>Sunrise_Sunset</th>\n",
       "    </tr>\n",
       "  </thead>\n",
       "  <tbody>\n",
       "    <tr>\n",
       "      <td>1035156</td>\n",
       "      <td>A-1035168</td>\n",
       "      <td>2</td>\n",
       "      <td>Rembert</td>\n",
       "      <td>SC</td>\n",
       "      <td>Overcast</td>\n",
       "      <td>35.6</td>\n",
       "      <td>100.0</td>\n",
       "      <td>0.00</td>\n",
       "      <td>2.2</td>\n",
       "      <td>8.1</td>\n",
       "      <td>Day</td>\n",
       "    </tr>\n",
       "    <tr>\n",
       "      <td>1420312</td>\n",
       "      <td>A-1420328</td>\n",
       "      <td>2</td>\n",
       "      <td>San Antonio</td>\n",
       "      <td>TX</td>\n",
       "      <td>Heavy Rain</td>\n",
       "      <td>75.2</td>\n",
       "      <td>94.0</td>\n",
       "      <td>0.39</td>\n",
       "      <td>3.0</td>\n",
       "      <td>15.0</td>\n",
       "      <td>Night</td>\n",
       "    </tr>\n",
       "    <tr>\n",
       "      <td>1420314</td>\n",
       "      <td>A-1420330</td>\n",
       "      <td>2</td>\n",
       "      <td>San Antonio</td>\n",
       "      <td>TX</td>\n",
       "      <td>Heavy Rain</td>\n",
       "      <td>75.2</td>\n",
       "      <td>94.0</td>\n",
       "      <td>0.29</td>\n",
       "      <td>6.0</td>\n",
       "      <td>12.7</td>\n",
       "      <td>Night</td>\n",
       "    </tr>\n",
       "    <tr>\n",
       "      <td>1420316</td>\n",
       "      <td>A-1420332</td>\n",
       "      <td>2</td>\n",
       "      <td>San Antonio</td>\n",
       "      <td>TX</td>\n",
       "      <td>Heavy Rain</td>\n",
       "      <td>74.5</td>\n",
       "      <td>95.0</td>\n",
       "      <td>0.29</td>\n",
       "      <td>3.0</td>\n",
       "      <td>10.4</td>\n",
       "      <td>Night</td>\n",
       "    </tr>\n",
       "    <tr>\n",
       "      <td>1823013</td>\n",
       "      <td>A-1823036</td>\n",
       "      <td>2</td>\n",
       "      <td>La Puente</td>\n",
       "      <td>CA</td>\n",
       "      <td>Clear</td>\n",
       "      <td>82.4</td>\n",
       "      <td>15.0</td>\n",
       "      <td>2.99</td>\n",
       "      <td>10.0</td>\n",
       "      <td>5.8</td>\n",
       "      <td>Day</td>\n",
       "    </tr>\n",
       "    <tr>\n",
       "      <td>1823016</td>\n",
       "      <td>A-1823039</td>\n",
       "      <td>3</td>\n",
       "      <td>Azusa</td>\n",
       "      <td>CA</td>\n",
       "      <td>Clear</td>\n",
       "      <td>82.4</td>\n",
       "      <td>15.0</td>\n",
       "      <td>2.99</td>\n",
       "      <td>10.0</td>\n",
       "      <td>5.8</td>\n",
       "      <td>Day</td>\n",
       "    </tr>\n",
       "    <tr>\n",
       "      <td>1823017</td>\n",
       "      <td>A-1823040</td>\n",
       "      <td>2</td>\n",
       "      <td>South El Monte</td>\n",
       "      <td>CA</td>\n",
       "      <td>Clear</td>\n",
       "      <td>82.4</td>\n",
       "      <td>15.0</td>\n",
       "      <td>2.99</td>\n",
       "      <td>10.0</td>\n",
       "      <td>5.8</td>\n",
       "      <td>Day</td>\n",
       "    </tr>\n",
       "    <tr>\n",
       "      <td>1823020</td>\n",
       "      <td>A-1823043</td>\n",
       "      <td>2</td>\n",
       "      <td>South El Monte</td>\n",
       "      <td>CA</td>\n",
       "      <td>Clear</td>\n",
       "      <td>82.4</td>\n",
       "      <td>15.0</td>\n",
       "      <td>2.99</td>\n",
       "      <td>10.0</td>\n",
       "      <td>5.8</td>\n",
       "      <td>Day</td>\n",
       "    </tr>\n",
       "    <tr>\n",
       "      <td>2405116</td>\n",
       "      <td>A-2405140</td>\n",
       "      <td>2</td>\n",
       "      <td>Verbena</td>\n",
       "      <td>AL</td>\n",
       "      <td>Clear</td>\n",
       "      <td>57.2</td>\n",
       "      <td>25.0</td>\n",
       "      <td>0.02</td>\n",
       "      <td>10.0</td>\n",
       "      <td>5.8</td>\n",
       "      <td>Day</td>\n",
       "    </tr>\n",
       "    <tr>\n",
       "      <td>2844673</td>\n",
       "      <td>A-2844697</td>\n",
       "      <td>2</td>\n",
       "      <td>Whittier</td>\n",
       "      <td>CA</td>\n",
       "      <td>Clear</td>\n",
       "      <td>80.6</td>\n",
       "      <td>8.0</td>\n",
       "      <td>2.99</td>\n",
       "      <td>10.0</td>\n",
       "      <td>6.9</td>\n",
       "      <td>Day</td>\n",
       "    </tr>\n",
       "  </tbody>\n",
       "</table>\n",
       "</div>"
      ],
      "text/plain": [
       "                ID  Severity            City State Weather_Condition  \\\n",
       "1035156  A-1035168         2         Rembert    SC          Overcast   \n",
       "1420312  A-1420328         2     San Antonio    TX        Heavy Rain   \n",
       "1420314  A-1420330         2     San Antonio    TX        Heavy Rain   \n",
       "1420316  A-1420332         2     San Antonio    TX        Heavy Rain   \n",
       "1823013  A-1823036         2       La Puente    CA             Clear   \n",
       "1823016  A-1823039         3           Azusa    CA             Clear   \n",
       "1823017  A-1823040         2  South El Monte    CA             Clear   \n",
       "1823020  A-1823043         2  South El Monte    CA             Clear   \n",
       "2405116  A-2405140         2         Verbena    AL             Clear   \n",
       "2844673  A-2844697         2        Whittier    CA             Clear   \n",
       "\n",
       "         Temperature(F)  Humidity(%)  Pressure(in)  Visibility(mi)  \\\n",
       "1035156            35.6        100.0          0.00             2.2   \n",
       "1420312            75.2         94.0          0.39             3.0   \n",
       "1420314            75.2         94.0          0.29             6.0   \n",
       "1420316            74.5         95.0          0.29             3.0   \n",
       "1823013            82.4         15.0          2.99            10.0   \n",
       "1823016            82.4         15.0          2.99            10.0   \n",
       "1823017            82.4         15.0          2.99            10.0   \n",
       "1823020            82.4         15.0          2.99            10.0   \n",
       "2405116            57.2         25.0          0.02            10.0   \n",
       "2844673            80.6          8.0          2.99            10.0   \n",
       "\n",
       "         Wind_Speed(mph) Sunrise_Sunset  \n",
       "1035156              8.1            Day  \n",
       "1420312             15.0          Night  \n",
       "1420314             12.7          Night  \n",
       "1420316             10.4          Night  \n",
       "1823013              5.8            Day  \n",
       "1823016              5.8            Day  \n",
       "1823017              5.8            Day  \n",
       "1823020              5.8            Day  \n",
       "2405116              5.8            Day  \n",
       "2844673              6.9            Day  "
      ]
     },
     "execution_count": 26,
     "metadata": {},
     "output_type": "execute_result"
    }
   ],
   "source": [
    "df[(df['Pressure(in)'] >= 0.0) & (df['Pressure(in)']  <= 2.99)] "
   ]
  },
  {
   "cell_type": "markdown",
   "metadata": {},
   "source": [
    "Remove the outlier, and save the data."
   ]
  },
  {
   "cell_type": "code",
   "execution_count": 27,
   "metadata": {},
   "outputs": [],
   "source": [
    "df = df.drop([1035156, 1420312, 1420314, 1420316, 2405116])\n",
    "df.to_csv('df_cleaned.csv')"
   ]
  },
  {
   "cell_type": "markdown",
   "metadata": {},
   "source": [
    "Computer summary statistics."
   ]
  },
  {
   "cell_type": "code",
   "execution_count": 28,
   "metadata": {},
   "outputs": [
    {
     "name": "stdout",
     "output_type": "stream",
     "text": [
      "mean: 29.796351399656984 \n",
      "variance: 0.571633822430841 \n",
      "standard deviation: 0.7560646946067784\n"
     ]
    }
   ],
   "source": [
    "mean = df['Pressure(in)'].mean()\n",
    "var = df['Pressure(in)'].var()\n",
    "std = df['Pressure(in)'].std()\n",
    "print('mean:', mean, '\\nvariance:', var,'\\nstandard deviation:', std)"
   ]
  },
  {
   "cell_type": "markdown",
   "metadata": {},
   "source": [
    "Plot a histogram with the variable Visibility."
   ]
  },
  {
   "cell_type": "code",
   "execution_count": 168,
   "metadata": {},
   "outputs": [
    {
     "data": {
      "text/plain": [
       "Text(0, 0.5, 'Frequency')"
      ]
     },
     "execution_count": 168,
     "metadata": {},
     "output_type": "execute_result"
    },
    {
     "data": {
      "image/png": "[encoded data removed]",
      "text/plain": [
       "<Figure size 432x288 with 1 Axes>"
      ]
     },
     "metadata": {
      "needs_background": "light"
     },
     "output_type": "display_data"
    }
   ],
   "source": [
    "df['Visibility(mi)'].hist(bins=50)\n",
    "plt.xlabel('Visibility(mi)', fontsize=14)\n",
    "plt.ylabel('Frequency', fontsize=14)"
   ]
  },
  {
   "cell_type": "markdown",
   "metadata": {},
   "source": [
    "Identify outliers."
   ]
  },
  {
   "cell_type": "code",
   "execution_count": 30,
   "metadata": {},
   "outputs": [
    {
     "data": {
      "text/plain": [
       "[0.0, 0.0, 0.0, 0.0, 0.0, 0.0, 0.0, 0.0, 0.0, 0.0]"
      ]
     },
     "execution_count": 30,
     "metadata": {},
     "output_type": "execute_result"
    }
   ],
   "source": [
    "sorted(df['Visibility(mi)'])[:10]"
   ]
  },
  {
   "cell_type": "code",
   "execution_count": 31,
   "metadata": {},
   "outputs": [
    {
     "data": {
      "text/html": [
       "<div>\n",
       "<style scoped>\n",
       "    .dataframe tbody tr th:only-of-type {\n",
       "        vertical-align: middle;\n",
       "    }\n",
       "\n",
       "    .dataframe tbody tr th {\n",
       "        vertical-align: top;\n",
       "    }\n",
       "\n",
       "    .dataframe thead th {\n",
       "        text-align: right;\n",
       "    }\n",
       "</style>\n",
       "<table border=\"1\" class=\"dataframe\">\n",
       "  <thead>\n",
       "    <tr style=\"text-align: right;\">\n",
       "      <th></th>\n",
       "      <th>ID</th>\n",
       "      <th>Severity</th>\n",
       "      <th>City</th>\n",
       "      <th>State</th>\n",
       "      <th>Weather_Condition</th>\n",
       "      <th>Temperature(F)</th>\n",
       "      <th>Humidity(%)</th>\n",
       "      <th>Pressure(in)</th>\n",
       "      <th>Visibility(mi)</th>\n",
       "      <th>Wind_Speed(mph)</th>\n",
       "      <th>Sunrise_Sunset</th>\n",
       "    </tr>\n",
       "  </thead>\n",
       "  <tbody>\n",
       "    <tr>\n",
       "      <td>117155</td>\n",
       "      <td>A-117157</td>\n",
       "      <td>2</td>\n",
       "      <td>Orlando</td>\n",
       "      <td>FL</td>\n",
       "      <td>Overcast</td>\n",
       "      <td>57.0</td>\n",
       "      <td>93.0</td>\n",
       "      <td>30.13</td>\n",
       "      <td>0.0</td>\n",
       "      <td>10.4</td>\n",
       "      <td>Night</td>\n",
       "    </tr>\n",
       "    <tr>\n",
       "      <td>117158</td>\n",
       "      <td>A-117160</td>\n",
       "      <td>2</td>\n",
       "      <td>Saint Cloud</td>\n",
       "      <td>FL</td>\n",
       "      <td>Overcast</td>\n",
       "      <td>57.0</td>\n",
       "      <td>93.0</td>\n",
       "      <td>30.13</td>\n",
       "      <td>0.0</td>\n",
       "      <td>10.4</td>\n",
       "      <td>Night</td>\n",
       "    </tr>\n",
       "    <tr>\n",
       "      <td>117173</td>\n",
       "      <td>A-117175</td>\n",
       "      <td>2</td>\n",
       "      <td>Orlando</td>\n",
       "      <td>FL</td>\n",
       "      <td>Overcast</td>\n",
       "      <td>55.9</td>\n",
       "      <td>97.0</td>\n",
       "      <td>30.14</td>\n",
       "      <td>0.0</td>\n",
       "      <td>10.4</td>\n",
       "      <td>Day</td>\n",
       "    </tr>\n",
       "    <tr>\n",
       "      <td>117609</td>\n",
       "      <td>A-117611</td>\n",
       "      <td>3</td>\n",
       "      <td>Orlando</td>\n",
       "      <td>FL</td>\n",
       "      <td>Fog</td>\n",
       "      <td>66.9</td>\n",
       "      <td>97.0</td>\n",
       "      <td>30.11</td>\n",
       "      <td>0.0</td>\n",
       "      <td>8.1</td>\n",
       "      <td>Night</td>\n",
       "    </tr>\n",
       "    <tr>\n",
       "      <td>117624</td>\n",
       "      <td>A-117626</td>\n",
       "      <td>2</td>\n",
       "      <td>Orlando</td>\n",
       "      <td>FL</td>\n",
       "      <td>Fog</td>\n",
       "      <td>66.9</td>\n",
       "      <td>100.0</td>\n",
       "      <td>30.12</td>\n",
       "      <td>0.0</td>\n",
       "      <td>6.9</td>\n",
       "      <td>Day</td>\n",
       "    </tr>\n",
       "    <tr>\n",
       "      <td>...</td>\n",
       "      <td>...</td>\n",
       "      <td>...</td>\n",
       "      <td>...</td>\n",
       "      <td>...</td>\n",
       "      <td>...</td>\n",
       "      <td>...</td>\n",
       "      <td>...</td>\n",
       "      <td>...</td>\n",
       "      <td>...</td>\n",
       "      <td>...</td>\n",
       "      <td>...</td>\n",
       "    </tr>\n",
       "    <tr>\n",
       "      <td>2973264</td>\n",
       "      <td>A-2973288</td>\n",
       "      <td>2</td>\n",
       "      <td>Azalea</td>\n",
       "      <td>OR</td>\n",
       "      <td>Fog</td>\n",
       "      <td>56.0</td>\n",
       "      <td>100.0</td>\n",
       "      <td>26.15</td>\n",
       "      <td>0.0</td>\n",
       "      <td>0.0</td>\n",
       "      <td>Day</td>\n",
       "    </tr>\n",
       "    <tr>\n",
       "      <td>2973266</td>\n",
       "      <td>A-2973290</td>\n",
       "      <td>2</td>\n",
       "      <td>Grants Pass</td>\n",
       "      <td>OR</td>\n",
       "      <td>Fog</td>\n",
       "      <td>56.0</td>\n",
       "      <td>100.0</td>\n",
       "      <td>26.15</td>\n",
       "      <td>0.0</td>\n",
       "      <td>0.0</td>\n",
       "      <td>Day</td>\n",
       "    </tr>\n",
       "    <tr>\n",
       "      <td>2973276</td>\n",
       "      <td>A-2973300</td>\n",
       "      <td>2</td>\n",
       "      <td>Azalea</td>\n",
       "      <td>OR</td>\n",
       "      <td>Fog</td>\n",
       "      <td>56.0</td>\n",
       "      <td>97.0</td>\n",
       "      <td>26.15</td>\n",
       "      <td>0.0</td>\n",
       "      <td>5.0</td>\n",
       "      <td>Day</td>\n",
       "    </tr>\n",
       "    <tr>\n",
       "      <td>2973277</td>\n",
       "      <td>A-2973301</td>\n",
       "      <td>2</td>\n",
       "      <td>Glendale</td>\n",
       "      <td>OR</td>\n",
       "      <td>Fog</td>\n",
       "      <td>56.0</td>\n",
       "      <td>97.0</td>\n",
       "      <td>26.15</td>\n",
       "      <td>0.0</td>\n",
       "      <td>5.0</td>\n",
       "      <td>Day</td>\n",
       "    </tr>\n",
       "    <tr>\n",
       "      <td>2973735</td>\n",
       "      <td>A-2973759</td>\n",
       "      <td>2</td>\n",
       "      <td>Wolf Creek</td>\n",
       "      <td>OR</td>\n",
       "      <td>Fog</td>\n",
       "      <td>55.0</td>\n",
       "      <td>100.0</td>\n",
       "      <td>26.14</td>\n",
       "      <td>0.0</td>\n",
       "      <td>0.0</td>\n",
       "      <td>Day</td>\n",
       "    </tr>\n",
       "  </tbody>\n",
       "</table>\n",
       "<p>755 rows × 11 columns</p>\n",
       "</div>"
      ],
      "text/plain": [
       "                ID  Severity         City State Weather_Condition  \\\n",
       "117155    A-117157         2      Orlando    FL          Overcast   \n",
       "117158    A-117160         2  Saint Cloud    FL          Overcast   \n",
       "117173    A-117175         2      Orlando    FL          Overcast   \n",
       "117609    A-117611         3      Orlando    FL               Fog   \n",
       "117624    A-117626         2      Orlando    FL               Fog   \n",
       "...            ...       ...          ...   ...               ...   \n",
       "2973264  A-2973288         2       Azalea    OR               Fog   \n",
       "2973266  A-2973290         2  Grants Pass    OR               Fog   \n",
       "2973276  A-2973300         2       Azalea    OR               Fog   \n",
       "2973277  A-2973301         2     Glendale    OR               Fog   \n",
       "2973735  A-2973759         2   Wolf Creek    OR               Fog   \n",
       "\n",
       "         Temperature(F)  Humidity(%)  Pressure(in)  Visibility(mi)  \\\n",
       "117155             57.0         93.0         30.13             0.0   \n",
       "117158             57.0         93.0         30.13             0.0   \n",
       "117173             55.9         97.0         30.14             0.0   \n",
       "117609             66.9         97.0         30.11             0.0   \n",
       "117624             66.9        100.0         30.12             0.0   \n",
       "...                 ...          ...           ...             ...   \n",
       "2973264            56.0        100.0         26.15             0.0   \n",
       "2973266            56.0        100.0         26.15             0.0   \n",
       "2973276            56.0         97.0         26.15             0.0   \n",
       "2973277            56.0         97.0         26.15             0.0   \n",
       "2973735            55.0        100.0         26.14             0.0   \n",
       "\n",
       "         Wind_Speed(mph) Sunrise_Sunset  \n",
       "117155              10.4          Night  \n",
       "117158              10.4          Night  \n",
       "117173              10.4            Day  \n",
       "117609               8.1          Night  \n",
       "117624               6.9            Day  \n",
       "...                  ...            ...  \n",
       "2973264              0.0            Day  \n",
       "2973266              0.0            Day  \n",
       "2973276              5.0            Day  \n",
       "2973277              5.0            Day  \n",
       "2973735              0.0            Day  \n",
       "\n",
       "[755 rows x 11 columns]"
      ]
     },
     "execution_count": 31,
     "metadata": {},
     "output_type": "execute_result"
    }
   ],
   "source": [
    "df[(df['Visibility(mi)'] == 0.0)]"
   ]
  },
  {
   "cell_type": "code",
   "execution_count": 32,
   "metadata": {},
   "outputs": [
    {
     "data": {
      "text/plain": [
       "[90.0, 90.0, 90.0, 90.0, 90.0, 101.0, 105.0, 111.0, 111.0, 111.0]"
      ]
     },
     "execution_count": 32,
     "metadata": {},
     "output_type": "execute_result"
    }
   ],
   "source": [
    "sorted(df['Visibility(mi)'])[-10:]"
   ]
  },
  {
   "cell_type": "markdown",
   "metadata": {},
   "source": [
    "Light rain can not have great visibility, 105 mi is not normal, thus I think this is an outlier."
   ]
  },
  {
   "cell_type": "code",
   "execution_count": 33,
   "metadata": {},
   "outputs": [
    {
     "data": {
      "text/html": [
       "<div>\n",
       "<style scoped>\n",
       "    .dataframe tbody tr th:only-of-type {\n",
       "        vertical-align: middle;\n",
       "    }\n",
       "\n",
       "    .dataframe tbody tr th {\n",
       "        vertical-align: top;\n",
       "    }\n",
       "\n",
       "    .dataframe thead th {\n",
       "        text-align: right;\n",
       "    }\n",
       "</style>\n",
       "<table border=\"1\" class=\"dataframe\">\n",
       "  <thead>\n",
       "    <tr style=\"text-align: right;\">\n",
       "      <th></th>\n",
       "      <th>ID</th>\n",
       "      <th>Severity</th>\n",
       "      <th>City</th>\n",
       "      <th>State</th>\n",
       "      <th>Weather_Condition</th>\n",
       "      <th>Temperature(F)</th>\n",
       "      <th>Humidity(%)</th>\n",
       "      <th>Pressure(in)</th>\n",
       "      <th>Visibility(mi)</th>\n",
       "      <th>Wind_Speed(mph)</th>\n",
       "      <th>Sunrise_Sunset</th>\n",
       "    </tr>\n",
       "  </thead>\n",
       "  <tbody>\n",
       "    <tr>\n",
       "      <td>220824</td>\n",
       "      <td>A-220826</td>\n",
       "      <td>2</td>\n",
       "      <td>Scarsdale</td>\n",
       "      <td>NY</td>\n",
       "      <td>Light Rain</td>\n",
       "      <td>75.9</td>\n",
       "      <td>85.0</td>\n",
       "      <td>30.02</td>\n",
       "      <td>105.0</td>\n",
       "      <td>12.7</td>\n",
       "      <td>Day</td>\n",
       "    </tr>\n",
       "    <tr>\n",
       "      <td>301381</td>\n",
       "      <td>A-301384</td>\n",
       "      <td>2</td>\n",
       "      <td>Dallas</td>\n",
       "      <td>TX</td>\n",
       "      <td>Scattered Clouds</td>\n",
       "      <td>93.2</td>\n",
       "      <td>49.0</td>\n",
       "      <td>30.11</td>\n",
       "      <td>111.0</td>\n",
       "      <td>5.8</td>\n",
       "      <td>Day</td>\n",
       "    </tr>\n",
       "    <tr>\n",
       "      <td>301384</td>\n",
       "      <td>A-301387</td>\n",
       "      <td>3</td>\n",
       "      <td>Dallas</td>\n",
       "      <td>TX</td>\n",
       "      <td>Scattered Clouds</td>\n",
       "      <td>93.2</td>\n",
       "      <td>49.0</td>\n",
       "      <td>30.11</td>\n",
       "      <td>111.0</td>\n",
       "      <td>5.8</td>\n",
       "      <td>Day</td>\n",
       "    </tr>\n",
       "    <tr>\n",
       "      <td>890392</td>\n",
       "      <td>A-890401</td>\n",
       "      <td>2</td>\n",
       "      <td>Ione</td>\n",
       "      <td>CA</td>\n",
       "      <td>Fair</td>\n",
       "      <td>75.0</td>\n",
       "      <td>53.0</td>\n",
       "      <td>29.70</td>\n",
       "      <td>101.0</td>\n",
       "      <td>3.0</td>\n",
       "      <td>Day</td>\n",
       "    </tr>\n",
       "    <tr>\n",
       "      <td>1055897</td>\n",
       "      <td>A-1055909</td>\n",
       "      <td>2</td>\n",
       "      <td>Edwards</td>\n",
       "      <td>CA</td>\n",
       "      <td>Partly Cloudy</td>\n",
       "      <td>63.1</td>\n",
       "      <td>17.0</td>\n",
       "      <td>30.12</td>\n",
       "      <td>90.0</td>\n",
       "      <td>13.8</td>\n",
       "      <td>Day</td>\n",
       "    </tr>\n",
       "    <tr>\n",
       "      <td>1078967</td>\n",
       "      <td>A-1078980</td>\n",
       "      <td>2</td>\n",
       "      <td>Edwards</td>\n",
       "      <td>CA</td>\n",
       "      <td>Mostly Cloudy</td>\n",
       "      <td>45.5</td>\n",
       "      <td>100.0</td>\n",
       "      <td>30.12</td>\n",
       "      <td>90.0</td>\n",
       "      <td>10.4</td>\n",
       "      <td>Day</td>\n",
       "    </tr>\n",
       "    <tr>\n",
       "      <td>1136643</td>\n",
       "      <td>A-1136657</td>\n",
       "      <td>2</td>\n",
       "      <td>Edwards</td>\n",
       "      <td>CA</td>\n",
       "      <td>Partly Cloudy</td>\n",
       "      <td>47.5</td>\n",
       "      <td>31.0</td>\n",
       "      <td>30.01</td>\n",
       "      <td>90.0</td>\n",
       "      <td>3.5</td>\n",
       "      <td>Day</td>\n",
       "    </tr>\n",
       "    <tr>\n",
       "      <td>2275831</td>\n",
       "      <td>A-2275855</td>\n",
       "      <td>3</td>\n",
       "      <td>Plano</td>\n",
       "      <td>TX</td>\n",
       "      <td>Scattered Clouds</td>\n",
       "      <td>93.2</td>\n",
       "      <td>49.0</td>\n",
       "      <td>30.11</td>\n",
       "      <td>111.0</td>\n",
       "      <td>5.8</td>\n",
       "      <td>Day</td>\n",
       "    </tr>\n",
       "    <tr>\n",
       "      <td>2515512</td>\n",
       "      <td>A-2515536</td>\n",
       "      <td>2</td>\n",
       "      <td>Edwards</td>\n",
       "      <td>CA</td>\n",
       "      <td>Partly Cloudy</td>\n",
       "      <td>49.0</td>\n",
       "      <td>29.0</td>\n",
       "      <td>27.89</td>\n",
       "      <td>90.0</td>\n",
       "      <td>13.0</td>\n",
       "      <td>Day</td>\n",
       "    </tr>\n",
       "    <tr>\n",
       "      <td>2515589</td>\n",
       "      <td>A-2515613</td>\n",
       "      <td>2</td>\n",
       "      <td>Edwards</td>\n",
       "      <td>CA</td>\n",
       "      <td>Partly Cloudy</td>\n",
       "      <td>52.0</td>\n",
       "      <td>23.0</td>\n",
       "      <td>27.85</td>\n",
       "      <td>90.0</td>\n",
       "      <td>12.0</td>\n",
       "      <td>Day</td>\n",
       "    </tr>\n",
       "  </tbody>\n",
       "</table>\n",
       "</div>"
      ],
      "text/plain": [
       "                ID  Severity       City State Weather_Condition  \\\n",
       "220824    A-220826         2  Scarsdale    NY        Light Rain   \n",
       "301381    A-301384         2     Dallas    TX  Scattered Clouds   \n",
       "301384    A-301387         3     Dallas    TX  Scattered Clouds   \n",
       "890392    A-890401         2       Ione    CA              Fair   \n",
       "1055897  A-1055909         2    Edwards    CA     Partly Cloudy   \n",
       "1078967  A-1078980         2    Edwards    CA     Mostly Cloudy   \n",
       "1136643  A-1136657         2    Edwards    CA     Partly Cloudy   \n",
       "2275831  A-2275855         3      Plano    TX  Scattered Clouds   \n",
       "2515512  A-2515536         2    Edwards    CA     Partly Cloudy   \n",
       "2515589  A-2515613         2    Edwards    CA     Partly Cloudy   \n",
       "\n",
       "         Temperature(F)  Humidity(%)  Pressure(in)  Visibility(mi)  \\\n",
       "220824             75.9         85.0         30.02           105.0   \n",
       "301381             93.2         49.0         30.11           111.0   \n",
       "301384             93.2         49.0         30.11           111.0   \n",
       "890392             75.0         53.0         29.70           101.0   \n",
       "1055897            63.1         17.0         30.12            90.0   \n",
       "1078967            45.5        100.0         30.12            90.0   \n",
       "1136643            47.5         31.0         30.01            90.0   \n",
       "2275831            93.2         49.0         30.11           111.0   \n",
       "2515512            49.0         29.0         27.89            90.0   \n",
       "2515589            52.0         23.0         27.85            90.0   \n",
       "\n",
       "         Wind_Speed(mph) Sunrise_Sunset  \n",
       "220824              12.7            Day  \n",
       "301381               5.8            Day  \n",
       "301384               5.8            Day  \n",
       "890392               3.0            Day  \n",
       "1055897             13.8            Day  \n",
       "1078967             10.4            Day  \n",
       "1136643              3.5            Day  \n",
       "2275831              5.8            Day  \n",
       "2515512             13.0            Day  \n",
       "2515589             12.0            Day  "
      ]
     },
     "execution_count": 33,
     "metadata": {},
     "output_type": "execute_result"
    }
   ],
   "source": [
    "df[(df['Visibility(mi)'] >=90.0) & (df['Visibility(mi)'] <= 111.0)] "
   ]
  },
  {
   "cell_type": "markdown",
   "metadata": {},
   "source": [
    "Remove the outlier, and save the data."
   ]
  },
  {
   "cell_type": "code",
   "execution_count": 34,
   "metadata": {},
   "outputs": [],
   "source": [
    "df = df.drop([220824])\n",
    "df.to_csv('df_cleaned.csv')"
   ]
  },
  {
   "cell_type": "markdown",
   "metadata": {},
   "source": [
    "Computer summary statistics."
   ]
  },
  {
   "cell_type": "code",
   "execution_count": 35,
   "metadata": {},
   "outputs": [
    {
     "name": "stdout",
     "output_type": "stream",
     "text": [
      "mean: 9.198734604237425 \n",
      "variance: 7.869277748728127 \n",
      "standard deviation: 2.805223297480635\n"
     ]
    }
   ],
   "source": [
    "mean = df['Visibility(mi)'].mean()\n",
    "var = df['Visibility(mi)'].var()\n",
    "std = df['Visibility(mi)'].std()\n",
    "print('mean:', mean, '\\nvariance:', var,'\\nstandard deviation:', std)"
   ]
  },
  {
   "cell_type": "markdown",
   "metadata": {},
   "source": [
    "Plot a histogram with the variable Wind_Speed"
   ]
  },
  {
   "cell_type": "code",
   "execution_count": 165,
   "metadata": {},
   "outputs": [
    {
     "data": {
      "text/plain": [
       "Text(0, 0.5, 'Frequency')"
      ]
     },
     "execution_count": 165,
     "metadata": {},
     "output_type": "execute_result"
    },
    {
     "data": {
      "image/png": "[encoded data removed]",
      "text/plain": [
       "<Figure size 432x288 with 1 Axes>"
      ]
     },
     "metadata": {
      "needs_background": "light"
     },
     "output_type": "display_data"
    }
   ],
   "source": [
    "df['Wind_Speed(mph)'].hist(bins=100)\n",
    "plt.xlabel('Wind_Speed(mph)', fontsize=14)\n",
    "plt.ylabel('Frequency', fontsize=14)"
   ]
  },
  {
   "cell_type": "markdown",
   "metadata": {},
   "source": [
    "Identify outliers."
   ]
  },
  {
   "cell_type": "code",
   "execution_count": 37,
   "metadata": {},
   "outputs": [
    {
     "data": {
      "text/plain": [
       "[0.0, 0.0, 0.0, 0.0, 0.0, 0.0, 0.0, 0.0, 0.0, 0.0]"
      ]
     },
     "execution_count": 37,
     "metadata": {},
     "output_type": "execute_result"
    }
   ],
   "source": [
    "sorted(df['Wind_Speed(mph)'])[:10]"
   ]
  },
  {
   "cell_type": "code",
   "execution_count": 38,
   "metadata": {},
   "outputs": [
    {
     "data": {
      "text/html": [
       "<div>\n",
       "<style scoped>\n",
       "    .dataframe tbody tr th:only-of-type {\n",
       "        vertical-align: middle;\n",
       "    }\n",
       "\n",
       "    .dataframe tbody tr th {\n",
       "        vertical-align: top;\n",
       "    }\n",
       "\n",
       "    .dataframe thead th {\n",
       "        text-align: right;\n",
       "    }\n",
       "</style>\n",
       "<table border=\"1\" class=\"dataframe\">\n",
       "  <thead>\n",
       "    <tr style=\"text-align: right;\">\n",
       "      <th></th>\n",
       "      <th>ID</th>\n",
       "      <th>Severity</th>\n",
       "      <th>City</th>\n",
       "      <th>State</th>\n",
       "      <th>Weather_Condition</th>\n",
       "      <th>Temperature(F)</th>\n",
       "      <th>Humidity(%)</th>\n",
       "      <th>Pressure(in)</th>\n",
       "      <th>Visibility(mi)</th>\n",
       "      <th>Wind_Speed(mph)</th>\n",
       "      <th>Sunrise_Sunset</th>\n",
       "    </tr>\n",
       "  </thead>\n",
       "  <tbody>\n",
       "    <tr>\n",
       "      <td>43488</td>\n",
       "      <td>A-43489</td>\n",
       "      <td>3</td>\n",
       "      <td>Calimesa</td>\n",
       "      <td>CA</td>\n",
       "      <td>Fair</td>\n",
       "      <td>70.0</td>\n",
       "      <td>60.0</td>\n",
       "      <td>28.34</td>\n",
       "      <td>10.0</td>\n",
       "      <td>0.0</td>\n",
       "      <td>Night</td>\n",
       "    </tr>\n",
       "    <tr>\n",
       "      <td>44266</td>\n",
       "      <td>A-44267</td>\n",
       "      <td>3</td>\n",
       "      <td>Castaic</td>\n",
       "      <td>CA</td>\n",
       "      <td>Cloudy</td>\n",
       "      <td>63.0</td>\n",
       "      <td>90.0</td>\n",
       "      <td>29.02</td>\n",
       "      <td>4.0</td>\n",
       "      <td>0.0</td>\n",
       "      <td>Day</td>\n",
       "    </tr>\n",
       "    <tr>\n",
       "      <td>44410</td>\n",
       "      <td>A-44411</td>\n",
       "      <td>2</td>\n",
       "      <td>Canyon Country</td>\n",
       "      <td>CA</td>\n",
       "      <td>Fair</td>\n",
       "      <td>65.0</td>\n",
       "      <td>84.0</td>\n",
       "      <td>29.01</td>\n",
       "      <td>8.0</td>\n",
       "      <td>0.0</td>\n",
       "      <td>Night</td>\n",
       "    </tr>\n",
       "    <tr>\n",
       "      <td>44568</td>\n",
       "      <td>A-44569</td>\n",
       "      <td>2</td>\n",
       "      <td>Newhall</td>\n",
       "      <td>CA</td>\n",
       "      <td>Fair</td>\n",
       "      <td>84.0</td>\n",
       "      <td>49.0</td>\n",
       "      <td>29.07</td>\n",
       "      <td>10.0</td>\n",
       "      <td>0.0</td>\n",
       "      <td>Day</td>\n",
       "    </tr>\n",
       "    <tr>\n",
       "      <td>44570</td>\n",
       "      <td>A-44571</td>\n",
       "      <td>2</td>\n",
       "      <td>Canyon Country</td>\n",
       "      <td>CA</td>\n",
       "      <td>Fair</td>\n",
       "      <td>84.0</td>\n",
       "      <td>49.0</td>\n",
       "      <td>29.07</td>\n",
       "      <td>10.0</td>\n",
       "      <td>0.0</td>\n",
       "      <td>Day</td>\n",
       "    </tr>\n",
       "    <tr>\n",
       "      <td>...</td>\n",
       "      <td>...</td>\n",
       "      <td>...</td>\n",
       "      <td>...</td>\n",
       "      <td>...</td>\n",
       "      <td>...</td>\n",
       "      <td>...</td>\n",
       "      <td>...</td>\n",
       "      <td>...</td>\n",
       "      <td>...</td>\n",
       "      <td>...</td>\n",
       "      <td>...</td>\n",
       "    </tr>\n",
       "    <tr>\n",
       "      <td>2974299</td>\n",
       "      <td>A-2974323</td>\n",
       "      <td>2</td>\n",
       "      <td>Claremont</td>\n",
       "      <td>CA</td>\n",
       "      <td>Cloudy</td>\n",
       "      <td>64.0</td>\n",
       "      <td>88.0</td>\n",
       "      <td>28.84</td>\n",
       "      <td>3.0</td>\n",
       "      <td>0.0</td>\n",
       "      <td>Day</td>\n",
       "    </tr>\n",
       "    <tr>\n",
       "      <td>2974302</td>\n",
       "      <td>A-2974326</td>\n",
       "      <td>2</td>\n",
       "      <td>Los Angeles</td>\n",
       "      <td>CA</td>\n",
       "      <td>Fair</td>\n",
       "      <td>81.0</td>\n",
       "      <td>49.0</td>\n",
       "      <td>29.66</td>\n",
       "      <td>8.0</td>\n",
       "      <td>0.0</td>\n",
       "      <td>Day</td>\n",
       "    </tr>\n",
       "    <tr>\n",
       "      <td>2974305</td>\n",
       "      <td>A-2974329</td>\n",
       "      <td>2</td>\n",
       "      <td>Los Angeles</td>\n",
       "      <td>CA</td>\n",
       "      <td>Fair</td>\n",
       "      <td>82.0</td>\n",
       "      <td>47.0</td>\n",
       "      <td>29.65</td>\n",
       "      <td>9.0</td>\n",
       "      <td>0.0</td>\n",
       "      <td>Day</td>\n",
       "    </tr>\n",
       "    <tr>\n",
       "      <td>2974316</td>\n",
       "      <td>A-2974340</td>\n",
       "      <td>2</td>\n",
       "      <td>Sylmar</td>\n",
       "      <td>CA</td>\n",
       "      <td>Fair</td>\n",
       "      <td>82.0</td>\n",
       "      <td>39.0</td>\n",
       "      <td>28.78</td>\n",
       "      <td>10.0</td>\n",
       "      <td>0.0</td>\n",
       "      <td>Day</td>\n",
       "    </tr>\n",
       "    <tr>\n",
       "      <td>2974322</td>\n",
       "      <td>A-2974346</td>\n",
       "      <td>2</td>\n",
       "      <td>Mission Hills</td>\n",
       "      <td>CA</td>\n",
       "      <td>Fair</td>\n",
       "      <td>82.0</td>\n",
       "      <td>39.0</td>\n",
       "      <td>28.79</td>\n",
       "      <td>10.0</td>\n",
       "      <td>0.0</td>\n",
       "      <td>Day</td>\n",
       "    </tr>\n",
       "  </tbody>\n",
       "</table>\n",
       "<p>135155 rows × 11 columns</p>\n",
       "</div>"
      ],
      "text/plain": [
       "                ID  Severity            City State Weather_Condition  \\\n",
       "43488      A-43489         3        Calimesa    CA              Fair   \n",
       "44266      A-44267         3         Castaic    CA            Cloudy   \n",
       "44410      A-44411         2  Canyon Country    CA              Fair   \n",
       "44568      A-44569         2         Newhall    CA              Fair   \n",
       "44570      A-44571         2  Canyon Country    CA              Fair   \n",
       "...            ...       ...             ...   ...               ...   \n",
       "2974299  A-2974323         2       Claremont    CA            Cloudy   \n",
       "2974302  A-2974326         2     Los Angeles    CA              Fair   \n",
       "2974305  A-2974329         2     Los Angeles    CA              Fair   \n",
       "2974316  A-2974340         2          Sylmar    CA              Fair   \n",
       "2974322  A-2974346         2   Mission Hills    CA              Fair   \n",
       "\n",
       "         Temperature(F)  Humidity(%)  Pressure(in)  Visibility(mi)  \\\n",
       "43488              70.0         60.0         28.34            10.0   \n",
       "44266              63.0         90.0         29.02             4.0   \n",
       "44410              65.0         84.0         29.01             8.0   \n",
       "44568              84.0         49.0         29.07            10.0   \n",
       "44570              84.0         49.0         29.07            10.0   \n",
       "...                 ...          ...           ...             ...   \n",
       "2974299            64.0         88.0         28.84             3.0   \n",
       "2974302            81.0         49.0         29.66             8.0   \n",
       "2974305            82.0         47.0         29.65             9.0   \n",
       "2974316            82.0         39.0         28.78            10.0   \n",
       "2974322            82.0         39.0         28.79            10.0   \n",
       "\n",
       "         Wind_Speed(mph) Sunrise_Sunset  \n",
       "43488                0.0          Night  \n",
       "44266                0.0            Day  \n",
       "44410                0.0          Night  \n",
       "44568                0.0            Day  \n",
       "44570                0.0            Day  \n",
       "...                  ...            ...  \n",
       "2974299              0.0            Day  \n",
       "2974302              0.0            Day  \n",
       "2974305              0.0            Day  \n",
       "2974316              0.0            Day  \n",
       "2974322              0.0            Day  \n",
       "\n",
       "[135155 rows x 11 columns]"
      ]
     },
     "execution_count": 38,
     "metadata": {},
     "output_type": "execute_result"
    }
   ],
   "source": [
    "df[(df['Wind_Speed(mph)'] == 0.0)]"
   ]
  },
  {
   "cell_type": "code",
   "execution_count": 39,
   "metadata": {},
   "outputs": [
    {
     "data": {
      "text/plain": [
       "[79.4,\n",
       " 85.2,\n",
       " 97.8,\n",
       " 99.0,\n",
       " 100.1,\n",
       " 100.1,\n",
       " 100.1,\n",
       " 100.1,\n",
       " 110.0,\n",
       " 110.5,\n",
       " 113.0,\n",
       " 113.0,\n",
       " 114.0,\n",
       " 116.0,\n",
       " 116.2,\n",
       " 116.2,\n",
       " 119.7,\n",
       " 119.7,\n",
       " 123.1,\n",
       " 123.1,\n",
       " 124.3,\n",
       " 124.3,\n",
       " 124.3,\n",
       " 125.4,\n",
       " 126.6,\n",
       " 126.6,\n",
       " 126.6,\n",
       " 126.6,\n",
       " 126.6,\n",
       " 126.6,\n",
       " 127.0,\n",
       " 127.7,\n",
       " 128.9,\n",
       " 130.0,\n",
       " 130.0,\n",
       " 130.0,\n",
       " 135.8,\n",
       " 141.5,\n",
       " 142.0,\n",
       " 142.0,\n",
       " 142.0,\n",
       " 142.7,\n",
       " 157.0,\n",
       " 161.0,\n",
       " 161.0,\n",
       " 162.3,\n",
       " 162.3,\n",
       " 166.9,\n",
       " 169.0,\n",
       " 169.0,\n",
       " 174.9,\n",
       " 174.9,\n",
       " 175.0,\n",
       " 175.0,\n",
       " 175.0,\n",
       " 208.3,\n",
       " 214.0,\n",
       " 214.0,\n",
       " 230.0,\n",
       " 230.0,\n",
       " 230.0,\n",
       " 230.0,\n",
       " 241.7,\n",
       " 245.1,\n",
       " 254.3,\n",
       " 254.3,\n",
       " 255.0,\n",
       " 328.0,\n",
       " 471.8,\n",
       " 580.0,\n",
       " 580.0,\n",
       " 703.1,\n",
       " 703.1,\n",
       " 822.8,\n",
       " 822.8,\n",
       " 822.8,\n",
       " 822.8,\n",
       " 822.8,\n",
       " 822.8,\n",
       " 822.8]"
      ]
     },
     "execution_count": 39,
     "metadata": {},
     "output_type": "execute_result"
    }
   ],
   "source": [
    "sorted(df['Wind_Speed(mph)'])[-80:]"
   ]
  },
  {
   "cell_type": "markdown",
   "metadata": {},
   "source": [
    "It is unrealistic for a car to drive at wind speed larger than 110 mph, so these are outliers."
   ]
  },
  {
   "cell_type": "code",
   "execution_count": 40,
   "metadata": {},
   "outputs": [
    {
     "data": {
      "text/html": [
       "<div>\n",
       "<style scoped>\n",
       "    .dataframe tbody tr th:only-of-type {\n",
       "        vertical-align: middle;\n",
       "    }\n",
       "\n",
       "    .dataframe tbody tr th {\n",
       "        vertical-align: top;\n",
       "    }\n",
       "\n",
       "    .dataframe thead th {\n",
       "        text-align: right;\n",
       "    }\n",
       "</style>\n",
       "<table border=\"1\" class=\"dataframe\">\n",
       "  <thead>\n",
       "    <tr style=\"text-align: right;\">\n",
       "      <th></th>\n",
       "      <th>ID</th>\n",
       "      <th>Severity</th>\n",
       "      <th>City</th>\n",
       "      <th>State</th>\n",
       "      <th>Weather_Condition</th>\n",
       "      <th>Temperature(F)</th>\n",
       "      <th>Humidity(%)</th>\n",
       "      <th>Pressure(in)</th>\n",
       "      <th>Visibility(mi)</th>\n",
       "      <th>Wind_Speed(mph)</th>\n",
       "      <th>Sunrise_Sunset</th>\n",
       "    </tr>\n",
       "  </thead>\n",
       "  <tbody>\n",
       "    <tr>\n",
       "      <td>17802</td>\n",
       "      <td>A-17803</td>\n",
       "      <td>2</td>\n",
       "      <td>Sacramento</td>\n",
       "      <td>CA</td>\n",
       "      <td>Overcast</td>\n",
       "      <td>59.0</td>\n",
       "      <td>72.0</td>\n",
       "      <td>29.96</td>\n",
       "      <td>10.0</td>\n",
       "      <td>142.7</td>\n",
       "      <td>Day</td>\n",
       "    </tr>\n",
       "    <tr>\n",
       "      <td>64265</td>\n",
       "      <td>A-64267</td>\n",
       "      <td>2</td>\n",
       "      <td>Claremont</td>\n",
       "      <td>CA</td>\n",
       "      <td>Light Rain</td>\n",
       "      <td>51.8</td>\n",
       "      <td>100.0</td>\n",
       "      <td>29.49</td>\n",
       "      <td>4.0</td>\n",
       "      <td>241.7</td>\n",
       "      <td>Day</td>\n",
       "    </tr>\n",
       "    <tr>\n",
       "      <td>113136</td>\n",
       "      <td>A-113138</td>\n",
       "      <td>2</td>\n",
       "      <td>Walnut</td>\n",
       "      <td>CA</td>\n",
       "      <td>Clear</td>\n",
       "      <td>75.2</td>\n",
       "      <td>53.0</td>\n",
       "      <td>29.92</td>\n",
       "      <td>10.0</td>\n",
       "      <td>123.1</td>\n",
       "      <td>Day</td>\n",
       "    </tr>\n",
       "    <tr>\n",
       "      <td>113152</td>\n",
       "      <td>A-113154</td>\n",
       "      <td>2</td>\n",
       "      <td>Glendora</td>\n",
       "      <td>CA</td>\n",
       "      <td>Clear</td>\n",
       "      <td>75.2</td>\n",
       "      <td>53.0</td>\n",
       "      <td>29.92</td>\n",
       "      <td>10.0</td>\n",
       "      <td>123.1</td>\n",
       "      <td>Day</td>\n",
       "    </tr>\n",
       "    <tr>\n",
       "      <td>114585</td>\n",
       "      <td>A-114587</td>\n",
       "      <td>3</td>\n",
       "      <td>Sylmar</td>\n",
       "      <td>CA</td>\n",
       "      <td>Clear</td>\n",
       "      <td>71.6</td>\n",
       "      <td>53.0</td>\n",
       "      <td>30.06</td>\n",
       "      <td>10.0</td>\n",
       "      <td>822.8</td>\n",
       "      <td>Day</td>\n",
       "    </tr>\n",
       "    <tr>\n",
       "      <td>...</td>\n",
       "      <td>...</td>\n",
       "      <td>...</td>\n",
       "      <td>...</td>\n",
       "      <td>...</td>\n",
       "      <td>...</td>\n",
       "      <td>...</td>\n",
       "      <td>...</td>\n",
       "      <td>...</td>\n",
       "      <td>...</td>\n",
       "      <td>...</td>\n",
       "      <td>...</td>\n",
       "    </tr>\n",
       "    <tr>\n",
       "      <td>2947761</td>\n",
       "      <td>A-2947785</td>\n",
       "      <td>2</td>\n",
       "      <td>Rialto</td>\n",
       "      <td>CA</td>\n",
       "      <td>Fair / Windy</td>\n",
       "      <td>91.0</td>\n",
       "      <td>31.0</td>\n",
       "      <td>28.68</td>\n",
       "      <td>10.0</td>\n",
       "      <td>142.0</td>\n",
       "      <td>Day</td>\n",
       "    </tr>\n",
       "    <tr>\n",
       "      <td>2947765</td>\n",
       "      <td>A-2947789</td>\n",
       "      <td>2</td>\n",
       "      <td>San Bernardino</td>\n",
       "      <td>CA</td>\n",
       "      <td>Fair / Windy</td>\n",
       "      <td>91.0</td>\n",
       "      <td>31.0</td>\n",
       "      <td>28.68</td>\n",
       "      <td>10.0</td>\n",
       "      <td>142.0</td>\n",
       "      <td>Day</td>\n",
       "    </tr>\n",
       "    <tr>\n",
       "      <td>2947782</td>\n",
       "      <td>A-2947806</td>\n",
       "      <td>2</td>\n",
       "      <td>Redlands</td>\n",
       "      <td>CA</td>\n",
       "      <td>Fair / Windy</td>\n",
       "      <td>91.0</td>\n",
       "      <td>31.0</td>\n",
       "      <td>28.68</td>\n",
       "      <td>10.0</td>\n",
       "      <td>142.0</td>\n",
       "      <td>Day</td>\n",
       "    </tr>\n",
       "    <tr>\n",
       "      <td>2956507</td>\n",
       "      <td>A-2956531</td>\n",
       "      <td>2</td>\n",
       "      <td>Aberdeen Proving Ground</td>\n",
       "      <td>MD</td>\n",
       "      <td>Light Rain / Windy</td>\n",
       "      <td>73.0</td>\n",
       "      <td>94.0</td>\n",
       "      <td>29.86</td>\n",
       "      <td>7.0</td>\n",
       "      <td>110.0</td>\n",
       "      <td>Day</td>\n",
       "    </tr>\n",
       "    <tr>\n",
       "      <td>2966630</td>\n",
       "      <td>A-2966654</td>\n",
       "      <td>2</td>\n",
       "      <td>Hobe Sound</td>\n",
       "      <td>FL</td>\n",
       "      <td>T-Storm / Windy</td>\n",
       "      <td>82.0</td>\n",
       "      <td>74.0</td>\n",
       "      <td>30.01</td>\n",
       "      <td>5.0</td>\n",
       "      <td>161.0</td>\n",
       "      <td>Day</td>\n",
       "    </tr>\n",
       "  </tbody>\n",
       "</table>\n",
       "<p>72 rows × 11 columns</p>\n",
       "</div>"
      ],
      "text/plain": [
       "                ID  Severity                     City State  \\\n",
       "17802      A-17803         2               Sacramento    CA   \n",
       "64265      A-64267         2                Claremont    CA   \n",
       "113136    A-113138         2                   Walnut    CA   \n",
       "113152    A-113154         2                 Glendora    CA   \n",
       "114585    A-114587         3                   Sylmar    CA   \n",
       "...            ...       ...                      ...   ...   \n",
       "2947761  A-2947785         2                   Rialto    CA   \n",
       "2947765  A-2947789         2           San Bernardino    CA   \n",
       "2947782  A-2947806         2                 Redlands    CA   \n",
       "2956507  A-2956531         2  Aberdeen Proving Ground    MD   \n",
       "2966630  A-2966654         2               Hobe Sound    FL   \n",
       "\n",
       "          Weather_Condition  Temperature(F)  Humidity(%)  Pressure(in)  \\\n",
       "17802              Overcast            59.0         72.0         29.96   \n",
       "64265            Light Rain            51.8        100.0         29.49   \n",
       "113136                Clear            75.2         53.0         29.92   \n",
       "113152                Clear            75.2         53.0         29.92   \n",
       "114585                Clear            71.6         53.0         30.06   \n",
       "...                     ...             ...          ...           ...   \n",
       "2947761        Fair / Windy            91.0         31.0         28.68   \n",
       "2947765        Fair / Windy            91.0         31.0         28.68   \n",
       "2947782        Fair / Windy            91.0         31.0         28.68   \n",
       "2956507  Light Rain / Windy            73.0         94.0         29.86   \n",
       "2966630     T-Storm / Windy            82.0         74.0         30.01   \n",
       "\n",
       "         Visibility(mi)  Wind_Speed(mph) Sunrise_Sunset  \n",
       "17802              10.0            142.7            Day  \n",
       "64265               4.0            241.7            Day  \n",
       "113136             10.0            123.1            Day  \n",
       "113152             10.0            123.1            Day  \n",
       "114585             10.0            822.8            Day  \n",
       "...                 ...              ...            ...  \n",
       "2947761            10.0            142.0            Day  \n",
       "2947765            10.0            142.0            Day  \n",
       "2947782            10.0            142.0            Day  \n",
       "2956507             7.0            110.0            Day  \n",
       "2966630             5.0            161.0            Day  \n",
       "\n",
       "[72 rows x 11 columns]"
      ]
     },
     "execution_count": 40,
     "metadata": {},
     "output_type": "execute_result"
    }
   ],
   "source": [
    "df[(df['Wind_Speed(mph)'] >= 110.0) & (df['Wind_Speed(mph)'] <= 822.8)] "
   ]
  },
  {
   "cell_type": "markdown",
   "metadata": {},
   "source": [
    "Remove the outliers, and save the data."
   ]
  },
  {
   "cell_type": "code",
   "execution_count": 41,
   "metadata": {},
   "outputs": [],
   "source": [
    "df = df[df['Wind_Speed(mph)'] < 110.0]\n",
    "df.to_csv('df_cleaned.csv')"
   ]
  },
  {
   "cell_type": "markdown",
   "metadata": {},
   "source": [
    "Computer summary statistics."
   ]
  },
  {
   "cell_type": "code",
   "execution_count": 42,
   "metadata": {},
   "outputs": [
    {
     "name": "stdout",
     "output_type": "stream",
     "text": [
      "mean: 8.292442140441423 \n",
      "variance: 23.203301549803427 \n",
      "standard deviation: 4.816980542809305\n"
     ]
    }
   ],
   "source": [
    "mean = df['Wind_Speed(mph)'].mean()\n",
    "var = df['Wind_Speed(mph)'].var()\n",
    "std = df['Wind_Speed(mph)'].std()\n",
    "print('mean:', mean, '\\nvariance:', var,'\\nstandard deviation:', std)"
   ]
  },
  {
   "cell_type": "code",
   "execution_count": 156,
   "metadata": {},
   "outputs": [
    {
     "data": {
      "text/plain": [
       "Text(0, 0.5, 'Frequency')"
      ]
     },
     "execution_count": 156,
     "metadata": {},
     "output_type": "execute_result"
    },
    {
     "data": {
      "image/png": "[encoded data removed]",
      "text/plain": [
       "<Figure size 432x288 with 1 Axes>"
      ]
     },
     "metadata": {
      "needs_background": "light"
     },
     "output_type": "display_data"
    }
   ],
   "source": [
    "df['Sunrise_Sunset'].hist()\n",
    "plt.xlabel('Sunrise_Sunset', fontsize=14)\n",
    "plt.ylabel('Frequency', fontsize=14)"
   ]
  },
  {
   "cell_type": "code",
   "execution_count": 171,
   "metadata": {},
   "outputs": [
    {
     "data": {
      "text/plain": [
       "Weather_Condition\n",
       "Clear                           614896\n",
       "Mostly Cloudy                   372249\n",
       "Fair                            329959\n",
       "Overcast                        321533\n",
       "Partly Cloudy                   266125\n",
       "Scattered Clouds                176032\n",
       "Light Rain                      128491\n",
       "Cloudy                          114153\n",
       "Light Snow                       38959\n",
       "Rain                             29505\n",
       "Haze                             25466\n",
       "Fog                              16166\n",
       "Heavy Rain                       11142\n",
       "Light Drizzle                     9140\n",
       "Light Thunderstorms and Rain      4475\n",
       "Snow                              4272\n",
       "Thunderstorm                      4049\n",
       "Fair / Windy                      3720\n",
       "Smoke                             2783\n",
       "Heavy Thunderstorms and Rain      2345\n",
       "Name: City, dtype: int64"
      ]
     },
     "execution_count": 171,
     "metadata": {},
     "output_type": "execute_result"
    }
   ],
   "source": [
    "counts = df.groupby(df.Weather_Condition).count().City\n",
    "accident_counts = counts.sort_values(ascending=False)\n",
    "a.head(n=20)"
   ]
  },
  {
   "cell_type": "markdown",
   "metadata": {},
   "source": [
    "Create a Pmf object, the visibility for accidents which are level 2 severity."
   ]
  },
  {
   "cell_type": "code",
   "execution_count": 43,
   "metadata": {},
   "outputs": [],
   "source": [
    "pmf_vis_2 = Pmf.from_seq(df['Visibility(mi)'][df.Severity == 2])"
   ]
  },
  {
   "cell_type": "code",
   "execution_count": 44,
   "metadata": {},
   "outputs": [
    {
     "data": {
      "text/plain": [
       "1.0"
      ]
     },
     "execution_count": 44,
     "metadata": {},
     "output_type": "execute_result"
    }
   ],
   "source": [
    "pmf_vis_2.normalize()"
   ]
  },
  {
   "cell_type": "code",
   "execution_count": 45,
   "metadata": {},
   "outputs": [
    {
     "data": {
      "text/html": [
       "<div>\n",
       "<style scoped>\n",
       "    .dataframe tbody tr th:only-of-type {\n",
       "        vertical-align: middle;\n",
       "    }\n",
       "\n",
       "    .dataframe tbody tr th {\n",
       "        vertical-align: top;\n",
       "    }\n",
       "\n",
       "    .dataframe thead th {\n",
       "        text-align: right;\n",
       "    }\n",
       "</style>\n",
       "<table border=\"1\" class=\"dataframe\">\n",
       "  <thead>\n",
       "    <tr style=\"text-align: right;\">\n",
       "      <th></th>\n",
       "      <th>probs</th>\n",
       "    </tr>\n",
       "  </thead>\n",
       "  <tbody>\n",
       "    <tr>\n",
       "      <td>0.00</td>\n",
       "      <td>3.606970e-04</td>\n",
       "    </tr>\n",
       "    <tr>\n",
       "      <td>0.06</td>\n",
       "      <td>1.892181e-05</td>\n",
       "    </tr>\n",
       "    <tr>\n",
       "      <td>0.10</td>\n",
       "      <td>3.435491e-04</td>\n",
       "    </tr>\n",
       "    <tr>\n",
       "      <td>0.12</td>\n",
       "      <td>1.224005e-04</td>\n",
       "    </tr>\n",
       "    <tr>\n",
       "      <td>0.19</td>\n",
       "      <td>1.773920e-06</td>\n",
       "    </tr>\n",
       "    <tr>\n",
       "      <td>...</td>\n",
       "      <td>...</td>\n",
       "    </tr>\n",
       "    <tr>\n",
       "      <td>76.00</td>\n",
       "      <td>1.182613e-06</td>\n",
       "    </tr>\n",
       "    <tr>\n",
       "      <td>80.00</td>\n",
       "      <td>2.306096e-05</td>\n",
       "    </tr>\n",
       "    <tr>\n",
       "      <td>90.00</td>\n",
       "      <td>2.956533e-06</td>\n",
       "    </tr>\n",
       "    <tr>\n",
       "      <td>101.00</td>\n",
       "      <td>5.913066e-07</td>\n",
       "    </tr>\n",
       "    <tr>\n",
       "      <td>111.00</td>\n",
       "      <td>5.913066e-07</td>\n",
       "    </tr>\n",
       "  </tbody>\n",
       "</table>\n",
       "<p>68 rows × 1 columns</p>\n",
       "</div>"
      ],
      "text/plain": [
       "0.00      3.606970e-04\n",
       "0.06      1.892181e-05\n",
       "0.10      3.435491e-04\n",
       "0.12      1.224005e-04\n",
       "0.19      1.773920e-06\n",
       "              ...     \n",
       "76.00     1.182613e-06\n",
       "80.00     2.306096e-05\n",
       "90.00     2.956533e-06\n",
       "101.00    5.913066e-07\n",
       "111.00    5.913066e-07\n",
       "Name: Visibility(mi), Length: 68, dtype: float64"
      ]
     },
     "execution_count": 45,
     "metadata": {},
     "output_type": "execute_result"
    }
   ],
   "source": [
    "pmf_vis_2"
   ]
  },
  {
   "cell_type": "markdown",
   "metadata": {},
   "source": [
    "Create a Pmf object, the visibility for accidents which are level 3 severity."
   ]
  },
  {
   "cell_type": "code",
   "execution_count": 46,
   "metadata": {},
   "outputs": [
    {
     "data": {
      "text/plain": [
       "1.0"
      ]
     },
     "execution_count": 46,
     "metadata": {},
     "output_type": "execute_result"
    }
   ],
   "source": [
    "pmf_vis_3 = Pmf.from_seq(df['Visibility(mi)'][df.Severity == 3])\n",
    "pmf_vis_3.normalize()"
   ]
  },
  {
   "cell_type": "markdown",
   "metadata": {},
   "source": [
    "Because the number of severity 4 case are small, so I compare severity 2 and severity 3. Make a PMF of visibility for accidents of severity 2 and accidents of severity 3."
   ]
  },
  {
   "cell_type": "code",
   "execution_count": 47,
   "metadata": {},
   "outputs": [
    {
     "data": {
      "text/plain": [
       "<matplotlib.legend.Legend at 0x21faf8ac848>"
      ]
     },
     "execution_count": 47,
     "metadata": {},
     "output_type": "execute_result"
    },
    {
     "data": {
      "image/png": "[encoded data removed]",
      "text/plain": [
       "<Figure size 432x288 with 1 Axes>"
      ]
     },
     "metadata": {
      "needs_background": "light"
     },
     "output_type": "display_data"
    }
   ],
   "source": [
    "plt.bar(pmf_vis_2.qs-0.4, pmf_vis_2.ps, width=0.4, color='red', label='level 2 severity')\n",
    "plt.bar(pmf_vis_3.qs, pmf_vis_3.ps,width=0.4, color='green', label= 'level 3 severity')\n",
    "plt.xlabel('Visibility(mi)')\n",
    "plt.ylabel('Probability')\n",
    "plt.legend()"
   ]
  },
  {
   "cell_type": "markdown",
   "metadata": {},
   "source": [
    "Zoom the most part of plot to see clearly."
   ]
  },
  {
   "cell_type": "code",
   "execution_count": 48,
   "metadata": {},
   "outputs": [
    {
     "data": {
      "text/plain": [
       "<matplotlib.legend.Legend at 0x21fad83cfc8>"
      ]
     },
     "execution_count": 48,
     "metadata": {},
     "output_type": "execute_result"
    },
    {
     "data": {
      "image/png": "[encoded data removed]",
      "text/plain": [
       "<Figure size 432x288 with 1 Axes>"
      ]
     },
     "metadata": {
      "needs_background": "light"
     },
     "output_type": "display_data"
    }
   ],
   "source": [
    "plt.bar(pmf_vis_2.qs-0.4, pmf_vis_2.ps, width=0.4, color='red', label='level 2 severity')\n",
    "plt.bar(pmf_vis_3.qs, pmf_vis_3.ps,width=0.4, color='green', label= 'level 3 severity')\n",
    "plt.xlabel('Visibility(mi)')\n",
    "plt.ylabel('Probability')\n",
    "plt.xlim(0, 20)\n",
    "plt.legend()"
   ]
  },
  {
   "cell_type": "markdown",
   "metadata": {},
   "source": [
    "Create a function to calculate cdf from pmf."
   ]
  },
  {
   "cell_type": "code",
   "execution_count": 154,
   "metadata": {},
   "outputs": [],
   "source": [
    "def pmf_cdf(pmf):\n",
    "    cdf_list = []\n",
    "    cdf = 0\n",
    "    for i in range(len(pmf.qs)):\n",
    "        cdf = cdf+pmf.ps[i]\n",
    "        cdf_list.append(cdf)\n",
    "    return cdf_list"
   ]
  },
  {
   "cell_type": "markdown",
   "metadata": {},
   "source": [
    "It looks like there is barely any different between severity 2 and severity 3 in visibility. "
   ]
  },
  {
   "cell_type": "code",
   "execution_count": 155,
   "metadata": {},
   "outputs": [
    {
     "data": {
      "text/plain": [
       "Text(0, 0.5, 'CDF')"
      ]
     },
     "execution_count": 155,
     "metadata": {},
     "output_type": "execute_result"
    },
    {
     "data": {
      "image/png": "[encoded data removed]",
      "text/plain": [
       "<Figure size 432x288 with 1 Axes>"
      ]
     },
     "metadata": {
      "needs_background": "light"
     },
     "output_type": "display_data"
    }
   ],
   "source": [
    "plt.plot(pmf_vis_2.qs, pmf_cdf(pmf_vis_2), color = \"blue\")\n",
    "plt.plot(pmf_vis_3.qs, pmf_cdf(pmf_vis_3), color = \"orange\")\n",
    "plt.xlabel('Visibility(mi)', fontsize=14)\n",
    "plt.ylabel('CDF', fontsize=14)"
   ]
  },
  {
   "cell_type": "markdown",
   "metadata": {},
   "source": [
    "Here is the Temperature PDF and the normal distribution PDF, it is a little bit skewed."
   ]
  },
  {
   "cell_type": "code",
   "execution_count": 52,
   "metadata": {},
   "outputs": [
    {
     "data": {
      "text/plain": [
       "(0, 0.04)"
      ]
     },
     "execution_count": 52,
     "metadata": {},
     "output_type": "execute_result"
    },
    {
     "data": {
      "image/png": "[encoded data removed]",
      "text/plain": [
       "<Figure size 432x288 with 1 Axes>"
      ]
     },
     "metadata": {
      "needs_background": "light"
     },
     "output_type": "display_data"
    }
   ],
   "source": [
    "gauss = norm(loc=df['Temperature(F)'].mean(), scale=df['Temperature(F)'].std())\n",
    "r = gauss.pdf(df['Temperature(F)'])\n",
    "plt.scatter(df['Temperature(F)'], r, color='orange')\n",
    "df['Temperature(F)'].hist(bins=100, density=True)\n",
    "plt.xlabel('Temperature(F)', fontsize=14)\n",
    "plt.ylabel('PDF', fontsize=14)\n",
    "plt.ylim(0, 0.04)"
   ]
  },
  {
   "cell_type": "code",
   "execution_count": 53,
   "metadata": {},
   "outputs": [
    {
     "data": {
      "text/plain": [
       "1.0"
      ]
     },
     "execution_count": 53,
     "metadata": {},
     "output_type": "execute_result"
    }
   ],
   "source": [
    "pmf_tem = Pmf.from_seq(df['Temperature(F)'])\n",
    "pmf_tem.normalize()"
   ]
  },
  {
   "cell_type": "markdown",
   "metadata": {},
   "source": [
    "Here's the Temperature CDF and the model. The model fits the data well."
   ]
  },
  {
   "cell_type": "code",
   "execution_count": 218,
   "metadata": {},
   "outputs": [
    {
     "data": {
      "text/plain": [
       "Text(0, 0.5, 'CDF')"
      ]
     },
     "execution_count": 218,
     "metadata": {},
     "output_type": "execute_result"
    },
    {
     "data": {
      "image/png": "[encoded data removed]",
      "text/plain": [
       "<Figure size 432x288 with 1 Axes>"
      ]
     },
     "metadata": {
      "needs_background": "light"
     },
     "output_type": "display_data"
    }
   ],
   "source": [
    "r1 = gauss.cdf(df['Temperature(F)'])\n",
    "plt.scatter(df['Temperature(F)'], r1, color='orange')\n",
    "plt.plot(pmf_tem.qs, pmf_cdf(pmf_tem), lw=4)\n",
    "plt.xlabel('Temperature(F)', fontsize=14)\n",
    "plt.ylabel('CDF', fontsize=14)"
   ]
  },
  {
   "cell_type": "markdown",
   "metadata": {},
   "source": [
    "Make a scatter plot to find the relationship between Severity and Wind Speed."
   ]
  },
  {
   "cell_type": "code",
   "execution_count": 55,
   "metadata": {},
   "outputs": [
    {
     "data": {
      "text/plain": [
       "Text(0, 0.5, 'Severity')"
      ]
     },
     "execution_count": 55,
     "metadata": {},
     "output_type": "execute_result"
    },
    {
     "data": {
      "image/png": "[encoded data removed]",
      "text/plain": [
       "<Figure size 432x288 with 1 Axes>"
      ]
     },
     "metadata": {
      "needs_background": "light"
     },
     "output_type": "display_data"
    }
   ],
   "source": [
    "plt.scatter(df['Wind_Speed(mph)'], df['Severity'], alpha = 0.4, s=5)\n",
    "plt.xlabel('WindSpeed', fontsize=14)\n",
    "plt.ylabel('Severity', fontsize=14)"
   ]
  },
  {
   "cell_type": "markdown",
   "metadata": {},
   "source": [
    "The following function computes the covariance of two variables using NumPy's dot function."
   ]
  },
  {
   "cell_type": "code",
   "execution_count": 56,
   "metadata": {},
   "outputs": [],
   "source": [
    "def Cov(xs, ys, meanx=None, meany=None):\n",
    "    xs = np.asarray(xs)\n",
    "    ys = np.asarray(ys)\n",
    "\n",
    "    if meanx is None:\n",
    "        meanx = np.mean(xs)\n",
    "    if meany is None:\n",
    "        meany = np.mean(ys)\n",
    "\n",
    "    cov = np.dot(xs-meanx, ys-meany) / len(xs)\n",
    "    return cov"
   ]
  },
  {
   "cell_type": "markdown",
   "metadata": {},
   "source": [
    "Comouter the covariance of wind speed and severity. "
   ]
  },
  {
   "cell_type": "code",
   "execution_count": 57,
   "metadata": {},
   "outputs": [
    {
     "data": {
      "text/plain": [
       "0.08298516215740964"
      ]
     },
     "execution_count": 57,
     "metadata": {},
     "output_type": "execute_result"
    }
   ],
   "source": [
    "Cov(df['Wind_Speed(mph)'], df['Severity'])"
   ]
  },
  {
   "cell_type": "markdown",
   "metadata": {},
   "source": [
    "The variables are not normal, thus I calculate Spearman's rank correlation. "
   ]
  },
  {
   "cell_type": "code",
   "execution_count": 58,
   "metadata": {},
   "outputs": [],
   "source": [
    "def SpearmanCorr(x,y):\n",
    "    xranks = pd.Series(x).rank()\n",
    "    yranks = pd.Series(y).rank()\n",
    "    return stats.spearmanr(xranks, yranks)"
   ]
  },
  {
   "cell_type": "markdown",
   "metadata": {},
   "source": [
    "There are have positive correlations, and the correlations are very small."
   ]
  },
  {
   "cell_type": "code",
   "execution_count": 59,
   "metadata": {},
   "outputs": [
    {
     "data": {
      "text/plain": [
       "SpearmanrResult(correlation=0.0336191945409709, pvalue=0.0)"
      ]
     },
     "execution_count": 59,
     "metadata": {},
     "output_type": "execute_result"
    }
   ],
   "source": [
    "SpearmanCorr(df['Wind_Speed(mph)'], df['Severity'])"
   ]
  },
  {
   "cell_type": "markdown",
   "metadata": {},
   "source": [
    "Make a scatter plot to find the relationship  between Severity and Pressure."
   ]
  },
  {
   "cell_type": "code",
   "execution_count": 60,
   "metadata": {},
   "outputs": [
    {
     "data": {
      "text/plain": [
       "Text(0, 0.5, 'Severity')"
      ]
     },
     "execution_count": 60,
     "metadata": {},
     "output_type": "execute_result"
    },
    {
     "data": {
      "image/png": "[encoded data removed]",
      "text/plain": [
       "<Figure size 432x288 with 1 Axes>"
      ]
     },
     "metadata": {
      "needs_background": "light"
     },
     "output_type": "display_data"
    }
   ],
   "source": [
    "plt.scatter(df['Wind_Speed(mph)'], df['Pressure(in)'], alpha = 0.8, s=5)\n",
    "plt.xlabel('WindSpeed', fontsize=14)\n",
    "plt.ylabel('Severity', fontsize=14)"
   ]
  },
  {
   "cell_type": "markdown",
   "metadata": {},
   "source": [
    "Computer the covariance of pressure and severity."
   ]
  },
  {
   "cell_type": "code",
   "execution_count": 61,
   "metadata": {},
   "outputs": [
    {
     "data": {
      "text/plain": [
       "0.007408142800425819"
      ]
     },
     "execution_count": 61,
     "metadata": {},
     "output_type": "execute_result"
    }
   ],
   "source": [
    "Cov(df['Pressure(in)'], df['Severity'])"
   ]
  },
  {
   "cell_type": "markdown",
   "metadata": {},
   "source": [
    "The variables are not normal, I calculate Spearman's rank correlation, the result is positive, thus these two variables change in the same direction, and the correlation is very small."
   ]
  },
  {
   "cell_type": "code",
   "execution_count": 62,
   "metadata": {},
   "outputs": [
    {
     "data": {
      "text/plain": [
       "SpearmanrResult(correlation=0.035982135088561365, pvalue=0.0)"
      ]
     },
     "execution_count": 62,
     "metadata": {},
     "output_type": "execute_result"
    }
   ],
   "source": [
    "SpearmanCorr(df['Pressure(in)'], df['Severity'])"
   ]
  },
  {
   "cell_type": "code",
   "execution_count": 109,
   "metadata": {},
   "outputs": [
    {
     "data": {
      "text/plain": [
       "SpearmanrResult(correlation=-0.021255618735392178, pvalue=2.5628800683405247e-248)"
      ]
     },
     "execution_count": 109,
     "metadata": {},
     "output_type": "execute_result"
    }
   ],
   "source": [
    "SpearmanCorr(df['Temperature(F)'], df['Severity'])"
   ]
  },
  {
   "cell_type": "code",
   "execution_count": 108,
   "metadata": {},
   "outputs": [
    {
     "data": {
      "text/plain": [
       "SpearmanrResult(correlation=0.019644566050478172, pvalue=2.100728759192654e-212)"
      ]
     },
     "execution_count": 108,
     "metadata": {},
     "output_type": "execute_result"
    }
   ],
   "source": [
    "SpearmanCorr(df['Humidity(%)'], df['Severity'])"
   ]
  },
  {
   "cell_type": "code",
   "execution_count": 111,
   "metadata": {},
   "outputs": [
    {
     "data": {
      "text/plain": [
       "SpearmanrResult(correlation=-0.010302852957456065, pvalue=8.113452396102279e-60)"
      ]
     },
     "execution_count": 111,
     "metadata": {},
     "output_type": "execute_result"
    }
   ],
   "source": [
    "SpearmanCorr(df['Visibility(mi)'], df['Severity'])"
   ]
  },
  {
   "cell_type": "markdown",
   "metadata": {},
   "source": [
    "Hypothsis: There is no relationship between Severity and Humidity."
   ]
  },
  {
   "cell_type": "code",
   "execution_count": 63,
   "metadata": {},
   "outputs": [],
   "source": [
    "class HypothesisTest(object):\n",
    "\n",
    "    def __init__(self, data):\n",
    "        self.data = data\n",
    "        self.MakeModel()\n",
    "        self.actual = self.TestStatistic(data)\n",
    "\n",
    "    def PValue(self, iters=100):\n",
    "        self.test_stats = [self.TestStatistic(self.RunModel()) \n",
    "                           for _ in range(iters)]\n",
    "        count = sum(1 for x in self.test_stats if x >= self.actual)\n",
    "        return count / iters\n",
    "\n",
    "    def TestStatistic(self, data):\n",
    "        raise UnimplementedMethodException()\n",
    "\n",
    "    def MakeModel(self):\n",
    "        pass\n",
    "\n",
    "    def RunModel(self):\n",
    "        raise UnimplementedMethodException()"
   ]
  },
  {
   "cell_type": "code",
   "execution_count": 64,
   "metadata": {},
   "outputs": [],
   "source": [
    "class CorrelationPermute(HypothesisTest):\n",
    "\n",
    "    def TestStatistic(self, data):\n",
    "        x, y = data\n",
    "        xranks = pd.Series(x).rank()\n",
    "        yranks = pd.Series(y).rank()\n",
    "        test_stat = stats.spearmanr(xranks, yranks) #abs()\n",
    "        return test_stat\n",
    "\n",
    "    def RunModel(self):\n",
    "        x, y = self.data\n",
    "        x = np.random.permutation(x)\n",
    "        return x, y"
   ]
  },
  {
   "cell_type": "markdown",
   "metadata": {},
   "source": [
    "The p-value is 0, so it is significant, I reject my hypothesis."
   ]
  },
  {
   "cell_type": "code",
   "execution_count": 65,
   "metadata": {},
   "outputs": [
    {
     "data": {
      "text/plain": [
       "0.0"
      ]
     },
     "execution_count": 65,
     "metadata": {},
     "output_type": "execute_result"
    }
   ],
   "source": [
    "data = df['Humidity(%)'],  df['Severity']\n",
    "ht = CorrelationPermute(data)\n",
    "pvalue = ht.PValue()\n",
    "pvalue"
   ]
  },
  {
   "cell_type": "markdown",
   "metadata": {},
   "source": [
    "Encode categorical features as a one-fot numric array."
   ]
  },
  {
   "cell_type": "code",
   "execution_count": 69,
   "metadata": {},
   "outputs": [
    {
     "data": {
      "text/html": [
       "<div>\n",
       "<style scoped>\n",
       "    .dataframe tbody tr th:only-of-type {\n",
       "        vertical-align: middle;\n",
       "    }\n",
       "\n",
       "    .dataframe tbody tr th {\n",
       "        vertical-align: top;\n",
       "    }\n",
       "\n",
       "    .dataframe thead th {\n",
       "        text-align: right;\n",
       "    }\n",
       "</style>\n",
       "<table border=\"1\" class=\"dataframe\">\n",
       "  <thead>\n",
       "    <tr style=\"text-align: right;\">\n",
       "      <th></th>\n",
       "      <th>Day</th>\n",
       "      <th>Night</th>\n",
       "    </tr>\n",
       "  </thead>\n",
       "  <tbody>\n",
       "    <tr>\n",
       "      <td>2</td>\n",
       "      <td>0</td>\n",
       "      <td>1</td>\n",
       "    </tr>\n",
       "    <tr>\n",
       "      <td>3</td>\n",
       "      <td>0</td>\n",
       "      <td>1</td>\n",
       "    </tr>\n",
       "    <tr>\n",
       "      <td>4</td>\n",
       "      <td>1</td>\n",
       "      <td>0</td>\n",
       "    </tr>\n",
       "    <tr>\n",
       "      <td>5</td>\n",
       "      <td>1</td>\n",
       "      <td>0</td>\n",
       "    </tr>\n",
       "    <tr>\n",
       "      <td>6</td>\n",
       "      <td>1</td>\n",
       "      <td>0</td>\n",
       "    </tr>\n",
       "    <tr>\n",
       "      <td>...</td>\n",
       "      <td>...</td>\n",
       "      <td>...</td>\n",
       "    </tr>\n",
       "    <tr>\n",
       "      <td>2974330</td>\n",
       "      <td>1</td>\n",
       "      <td>0</td>\n",
       "    </tr>\n",
       "    <tr>\n",
       "      <td>2974331</td>\n",
       "      <td>1</td>\n",
       "      <td>0</td>\n",
       "    </tr>\n",
       "    <tr>\n",
       "      <td>2974332</td>\n",
       "      <td>1</td>\n",
       "      <td>0</td>\n",
       "    </tr>\n",
       "    <tr>\n",
       "      <td>2974333</td>\n",
       "      <td>1</td>\n",
       "      <td>0</td>\n",
       "    </tr>\n",
       "    <tr>\n",
       "      <td>2974334</td>\n",
       "      <td>1</td>\n",
       "      <td>0</td>\n",
       "    </tr>\n",
       "  </tbody>\n",
       "</table>\n",
       "<p>2506543 rows × 2 columns</p>\n",
       "</div>"
      ],
      "text/plain": [
       "         Day  Night\n",
       "2          0      1\n",
       "3          0      1\n",
       "4          1      0\n",
       "5          1      0\n",
       "6          1      0\n",
       "...      ...    ...\n",
       "2974330    1      0\n",
       "2974331    1      0\n",
       "2974332    1      0\n",
       "2974333    1      0\n",
       "2974334    1      0\n",
       "\n",
       "[2506543 rows x 2 columns]"
      ]
     },
     "execution_count": 69,
     "metadata": {},
     "output_type": "execute_result"
    }
   ],
   "source": [
    "enc = OneHotEncoder()\n",
    "x = pd.get_dummies(df['Sunrise_Sunset'])\n",
    "x"
   ]
  },
  {
   "cell_type": "code",
   "execution_count": 96,
   "metadata": {},
   "outputs": [],
   "source": [
    "df_new = pd.concat([df, x], axis=1)"
   ]
  },
  {
   "cell_type": "markdown",
   "metadata": {},
   "source": [
    "Drop the variables not used."
   ]
  },
  {
   "cell_type": "code",
   "execution_count": 97,
   "metadata": {},
   "outputs": [
    {
     "data": {
      "text/html": [
       "<div>\n",
       "<style scoped>\n",
       "    .dataframe tbody tr th:only-of-type {\n",
       "        vertical-align: middle;\n",
       "    }\n",
       "\n",
       "    .dataframe tbody tr th {\n",
       "        vertical-align: top;\n",
       "    }\n",
       "\n",
       "    .dataframe thead th {\n",
       "        text-align: right;\n",
       "    }\n",
       "</style>\n",
       "<table border=\"1\" class=\"dataframe\">\n",
       "  <thead>\n",
       "    <tr style=\"text-align: right;\">\n",
       "      <th></th>\n",
       "      <th>Severity</th>\n",
       "      <th>Temperature(F)</th>\n",
       "      <th>Humidity(%)</th>\n",
       "      <th>Pressure(in)</th>\n",
       "      <th>Visibility(mi)</th>\n",
       "      <th>Wind_Speed(mph)</th>\n",
       "      <th>Day</th>\n",
       "      <th>Night</th>\n",
       "    </tr>\n",
       "  </thead>\n",
       "  <tbody>\n",
       "    <tr>\n",
       "      <td>2</td>\n",
       "      <td>2</td>\n",
       "      <td>36.0</td>\n",
       "      <td>100.0</td>\n",
       "      <td>29.67</td>\n",
       "      <td>10.0</td>\n",
       "      <td>3.5</td>\n",
       "      <td>0</td>\n",
       "      <td>1</td>\n",
       "    </tr>\n",
       "    <tr>\n",
       "      <td>3</td>\n",
       "      <td>3</td>\n",
       "      <td>35.1</td>\n",
       "      <td>96.0</td>\n",
       "      <td>29.64</td>\n",
       "      <td>9.0</td>\n",
       "      <td>4.6</td>\n",
       "      <td>0</td>\n",
       "      <td>1</td>\n",
       "    </tr>\n",
       "    <tr>\n",
       "      <td>4</td>\n",
       "      <td>2</td>\n",
       "      <td>36.0</td>\n",
       "      <td>89.0</td>\n",
       "      <td>29.65</td>\n",
       "      <td>6.0</td>\n",
       "      <td>3.5</td>\n",
       "      <td>1</td>\n",
       "      <td>0</td>\n",
       "    </tr>\n",
       "    <tr>\n",
       "      <td>5</td>\n",
       "      <td>3</td>\n",
       "      <td>37.9</td>\n",
       "      <td>97.0</td>\n",
       "      <td>29.63</td>\n",
       "      <td>7.0</td>\n",
       "      <td>3.5</td>\n",
       "      <td>1</td>\n",
       "      <td>0</td>\n",
       "    </tr>\n",
       "    <tr>\n",
       "      <td>6</td>\n",
       "      <td>2</td>\n",
       "      <td>34.0</td>\n",
       "      <td>100.0</td>\n",
       "      <td>29.66</td>\n",
       "      <td>7.0</td>\n",
       "      <td>3.5</td>\n",
       "      <td>1</td>\n",
       "      <td>0</td>\n",
       "    </tr>\n",
       "    <tr>\n",
       "      <td>...</td>\n",
       "      <td>...</td>\n",
       "      <td>...</td>\n",
       "      <td>...</td>\n",
       "      <td>...</td>\n",
       "      <td>...</td>\n",
       "      <td>...</td>\n",
       "      <td>...</td>\n",
       "      <td>...</td>\n",
       "    </tr>\n",
       "    <tr>\n",
       "      <td>2974330</td>\n",
       "      <td>2</td>\n",
       "      <td>86.0</td>\n",
       "      <td>40.0</td>\n",
       "      <td>28.92</td>\n",
       "      <td>10.0</td>\n",
       "      <td>13.0</td>\n",
       "      <td>1</td>\n",
       "      <td>0</td>\n",
       "    </tr>\n",
       "    <tr>\n",
       "      <td>2974331</td>\n",
       "      <td>2</td>\n",
       "      <td>70.0</td>\n",
       "      <td>73.0</td>\n",
       "      <td>29.39</td>\n",
       "      <td>10.0</td>\n",
       "      <td>6.0</td>\n",
       "      <td>1</td>\n",
       "      <td>0</td>\n",
       "    </tr>\n",
       "    <tr>\n",
       "      <td>2974332</td>\n",
       "      <td>2</td>\n",
       "      <td>73.0</td>\n",
       "      <td>64.0</td>\n",
       "      <td>29.74</td>\n",
       "      <td>10.0</td>\n",
       "      <td>10.0</td>\n",
       "      <td>1</td>\n",
       "      <td>0</td>\n",
       "    </tr>\n",
       "    <tr>\n",
       "      <td>2974333</td>\n",
       "      <td>2</td>\n",
       "      <td>71.0</td>\n",
       "      <td>81.0</td>\n",
       "      <td>29.62</td>\n",
       "      <td>10.0</td>\n",
       "      <td>8.0</td>\n",
       "      <td>1</td>\n",
       "      <td>0</td>\n",
       "    </tr>\n",
       "    <tr>\n",
       "      <td>2974334</td>\n",
       "      <td>2</td>\n",
       "      <td>79.0</td>\n",
       "      <td>47.0</td>\n",
       "      <td>28.63</td>\n",
       "      <td>7.0</td>\n",
       "      <td>7.0</td>\n",
       "      <td>1</td>\n",
       "      <td>0</td>\n",
       "    </tr>\n",
       "  </tbody>\n",
       "</table>\n",
       "<p>2506543 rows × 8 columns</p>\n",
       "</div>"
      ],
      "text/plain": [
       "         Severity  Temperature(F)  Humidity(%)  Pressure(in)  Visibility(mi)  \\\n",
       "2               2            36.0        100.0         29.67            10.0   \n",
       "3               3            35.1         96.0         29.64             9.0   \n",
       "4               2            36.0         89.0         29.65             6.0   \n",
       "5               3            37.9         97.0         29.63             7.0   \n",
       "6               2            34.0        100.0         29.66             7.0   \n",
       "...           ...             ...          ...           ...             ...   \n",
       "2974330         2            86.0         40.0         28.92            10.0   \n",
       "2974331         2            70.0         73.0         29.39            10.0   \n",
       "2974332         2            73.0         64.0         29.74            10.0   \n",
       "2974333         2            71.0         81.0         29.62            10.0   \n",
       "2974334         2            79.0         47.0         28.63             7.0   \n",
       "\n",
       "         Wind_Speed(mph)  Day  Night  \n",
       "2                    3.5    0      1  \n",
       "3                    4.6    0      1  \n",
       "4                    3.5    1      0  \n",
       "5                    3.5    1      0  \n",
       "6                    3.5    1      0  \n",
       "...                  ...  ...    ...  \n",
       "2974330             13.0    1      0  \n",
       "2974331              6.0    1      0  \n",
       "2974332             10.0    1      0  \n",
       "2974333              8.0    1      0  \n",
       "2974334              7.0    1      0  \n",
       "\n",
       "[2506543 rows x 8 columns]"
      ]
     },
     "execution_count": 97,
     "metadata": {},
     "output_type": "execute_result"
    }
   ],
   "source": [
    "df_new.drop(['ID', 'City', 'State', 'Weather_Condition', 'Sunrise_Sunset'], axis=1, inplace=True)\n",
    "df_new"
   ]
  },
  {
   "cell_type": "markdown",
   "metadata": {},
   "source": [
    "Rename some variables"
   ]
  },
  {
   "cell_type": "code",
   "execution_count": 101,
   "metadata": {},
   "outputs": [
    {
     "data": {
      "text/html": [
       "<div>\n",
       "<style scoped>\n",
       "    .dataframe tbody tr th:only-of-type {\n",
       "        vertical-align: middle;\n",
       "    }\n",
       "\n",
       "    .dataframe tbody tr th {\n",
       "        vertical-align: top;\n",
       "    }\n",
       "\n",
       "    .dataframe thead th {\n",
       "        text-align: right;\n",
       "    }\n",
       "</style>\n",
       "<table border=\"1\" class=\"dataframe\">\n",
       "  <thead>\n",
       "    <tr style=\"text-align: right;\">\n",
       "      <th></th>\n",
       "      <th>Severity</th>\n",
       "      <th>Temperature</th>\n",
       "      <th>Humidity</th>\n",
       "      <th>Pressure</th>\n",
       "      <th>Visibility</th>\n",
       "      <th>Wind_Speed</th>\n",
       "      <th>Day</th>\n",
       "      <th>Night</th>\n",
       "    </tr>\n",
       "  </thead>\n",
       "  <tbody>\n",
       "    <tr>\n",
       "      <td>2</td>\n",
       "      <td>2</td>\n",
       "      <td>36.0</td>\n",
       "      <td>100.0</td>\n",
       "      <td>29.67</td>\n",
       "      <td>10.0</td>\n",
       "      <td>3.5</td>\n",
       "      <td>0</td>\n",
       "      <td>1</td>\n",
       "    </tr>\n",
       "    <tr>\n",
       "      <td>3</td>\n",
       "      <td>3</td>\n",
       "      <td>35.1</td>\n",
       "      <td>96.0</td>\n",
       "      <td>29.64</td>\n",
       "      <td>9.0</td>\n",
       "      <td>4.6</td>\n",
       "      <td>0</td>\n",
       "      <td>1</td>\n",
       "    </tr>\n",
       "    <tr>\n",
       "      <td>4</td>\n",
       "      <td>2</td>\n",
       "      <td>36.0</td>\n",
       "      <td>89.0</td>\n",
       "      <td>29.65</td>\n",
       "      <td>6.0</td>\n",
       "      <td>3.5</td>\n",
       "      <td>1</td>\n",
       "      <td>0</td>\n",
       "    </tr>\n",
       "    <tr>\n",
       "      <td>5</td>\n",
       "      <td>3</td>\n",
       "      <td>37.9</td>\n",
       "      <td>97.0</td>\n",
       "      <td>29.63</td>\n",
       "      <td>7.0</td>\n",
       "      <td>3.5</td>\n",
       "      <td>1</td>\n",
       "      <td>0</td>\n",
       "    </tr>\n",
       "    <tr>\n",
       "      <td>6</td>\n",
       "      <td>2</td>\n",
       "      <td>34.0</td>\n",
       "      <td>100.0</td>\n",
       "      <td>29.66</td>\n",
       "      <td>7.0</td>\n",
       "      <td>3.5</td>\n",
       "      <td>1</td>\n",
       "      <td>0</td>\n",
       "    </tr>\n",
       "  </tbody>\n",
       "</table>\n",
       "</div>"
      ],
      "text/plain": [
       "   Severity  Temperature  Humidity  Pressure  Visibility  Wind_Speed  Day  \\\n",
       "2         2         36.0     100.0     29.67        10.0         3.5    0   \n",
       "3         3         35.1      96.0     29.64         9.0         4.6    0   \n",
       "4         2         36.0      89.0     29.65         6.0         3.5    1   \n",
       "5         3         37.9      97.0     29.63         7.0         3.5    1   \n",
       "6         2         34.0     100.0     29.66         7.0         3.5    1   \n",
       "\n",
       "   Night  \n",
       "2      1  \n",
       "3      1  \n",
       "4      0  \n",
       "5      0  \n",
       "6      0  "
      ]
     },
     "execution_count": 101,
     "metadata": {},
     "output_type": "execute_result"
    }
   ],
   "source": [
    "df_new = df_new.rename({'Temperature(F)' : 'Temperature', 'Humidity(%)' : 'Humidity', \n",
    "                        'Pressure(in)' : 'Pressure', 'Visibility(mi)' : 'Visibility', \n",
    "                        'Wind_Speed(mph)' : 'Wind_Speed'}, axis='columns')\n",
    "df_new.head()"
   ]
  },
  {
   "cell_type": "markdown",
   "metadata": {},
   "source": [
    "Run a multiple linear regression."
   ]
  },
  {
   "cell_type": "code",
   "execution_count": 106,
   "metadata": {},
   "outputs": [
    {
     "data": {
      "text/html": [
       "<table class=\"simpletable\">\n",
       "<caption>OLS Regression Results</caption>\n",
       "<tr>\n",
       "  <th>Dep. Variable:</th>        <td>Severity</td>     <th>  R-squared:         </th>  <td>   0.006</td>  \n",
       "</tr>\n",
       "<tr>\n",
       "  <th>Model:</th>                   <td>OLS</td>       <th>  Adj. R-squared:    </th>  <td>   0.006</td>  \n",
       "</tr>\n",
       "<tr>\n",
       "  <th>Method:</th>             <td>Least Squares</td>  <th>  F-statistic:       </th>  <td>   2584.</td>  \n",
       "</tr>\n",
       "<tr>\n",
       "  <th>Date:</th>             <td>Sat, 30 May 2020</td> <th>  Prob (F-statistic):</th>   <td>  0.00</td>   \n",
       "</tr>\n",
       "<tr>\n",
       "  <th>Time:</th>                 <td>14:40:02</td>     <th>  Log-Likelihood:    </th> <td>-1.9951e+06</td>\n",
       "</tr>\n",
       "<tr>\n",
       "  <th>No. Observations:</th>      <td>2506543</td>     <th>  AIC:               </th>  <td>3.990e+06</td> \n",
       "</tr>\n",
       "<tr>\n",
       "  <th>Df Residuals:</th>          <td>2506536</td>     <th>  BIC:               </th>  <td>3.990e+06</td> \n",
       "</tr>\n",
       "<tr>\n",
       "  <th>Df Model:</th>              <td>     6</td>      <th>                     </th>      <td> </td>     \n",
       "</tr>\n",
       "<tr>\n",
       "  <th>Covariance Type:</th>      <td>nonrobust</td>    <th>                     </th>      <td> </td>     \n",
       "</tr>\n",
       "</table>\n",
       "<table class=\"simpletable\">\n",
       "<tr>\n",
       "       <td></td>          <th>coef</th>     <th>std err</th>      <th>t</th>      <th>P>|t|</th>  <th>[0.025</th>    <th>0.975]</th>  \n",
       "</tr>\n",
       "<tr>\n",
       "  <th>Intercept</th>   <td>    1.3242</td> <td>    0.009</td> <td>  146.401</td> <td> 0.000</td> <td>    1.306</td> <td>    1.342</td>\n",
       "</tr>\n",
       "<tr>\n",
       "  <th>Temperature</th> <td>   -0.0002</td> <td> 1.96e-05</td> <td>  -11.848</td> <td> 0.000</td> <td>   -0.000</td> <td>   -0.000</td>\n",
       "</tr>\n",
       "<tr>\n",
       "  <th>Humidity</th>    <td>    0.0003</td> <td> 1.75e-05</td> <td>   16.932</td> <td> 0.000</td> <td>    0.000</td> <td>    0.000</td>\n",
       "</tr>\n",
       "<tr>\n",
       "  <th>Pressure</th>    <td>    0.0115</td> <td>    0.000</td> <td>   25.605</td> <td> 0.000</td> <td>    0.011</td> <td>    0.012</td>\n",
       "</tr>\n",
       "<tr>\n",
       "  <th>Visibility</th>  <td>    0.0003</td> <td>    0.000</td> <td>    2.379</td> <td> 0.017</td> <td> 5.51e-05</td> <td>    0.001</td>\n",
       "</tr>\n",
       "<tr>\n",
       "  <th>Wind_Speed</th>  <td>    0.0046</td> <td> 7.19e-05</td> <td>   64.014</td> <td> 0.000</td> <td>    0.004</td> <td>    0.005</td>\n",
       "</tr>\n",
       "<tr>\n",
       "  <th>Day</th>         <td>    0.6223</td> <td>    0.005</td> <td>  136.779</td> <td> 0.000</td> <td>    0.613</td> <td>    0.631</td>\n",
       "</tr>\n",
       "<tr>\n",
       "  <th>Night</th>       <td>    0.7019</td> <td>    0.005</td> <td>  154.804</td> <td> 0.000</td> <td>    0.693</td> <td>    0.711</td>\n",
       "</tr>\n",
       "</table>\n",
       "<table class=\"simpletable\">\n",
       "<tr>\n",
       "  <th>Omnibus:</th>       <td>376155.620</td> <th>  Durbin-Watson:     </th>  <td>   1.468</td> \n",
       "</tr>\n",
       "<tr>\n",
       "  <th>Prob(Omnibus):</th>   <td> 0.000</td>   <th>  Jarque-Bera (JB):  </th> <td>571495.413</td>\n",
       "</tr>\n",
       "<tr>\n",
       "  <th>Skew:</th>            <td> 1.156</td>   <th>  Prob(JB):          </th>  <td>    0.00</td> \n",
       "</tr>\n",
       "<tr>\n",
       "  <th>Kurtosis:</th>        <td> 3.360</td>   <th>  Cond. No.          </th>  <td>7.20e+17</td> \n",
       "</tr>\n",
       "</table><br/><br/>Warnings:<br/>[1] Standard Errors assume that the covariance matrix of the errors is correctly specified.<br/>[2] The smallest eigenvalue is 4.54e-26. This might indicate that there are<br/>strong multicollinearity problems or that the design matrix is singular."
      ],
      "text/plain": [
       "<class 'statsmodels.iolib.summary.Summary'>\n",
       "\"\"\"\n",
       "                            OLS Regression Results                            \n",
       "==============================================================================\n",
       "Dep. Variable:               Severity   R-squared:                       0.006\n",
       "Model:                            OLS   Adj. R-squared:                  0.006\n",
       "Method:                 Least Squares   F-statistic:                     2584.\n",
       "Date:                Sat, 30 May 2020   Prob (F-statistic):               0.00\n",
       "Time:                        14:40:02   Log-Likelihood:            -1.9951e+06\n",
       "No. Observations:             2506543   AIC:                         3.990e+06\n",
       "Df Residuals:                 2506536   BIC:                         3.990e+06\n",
       "Df Model:                           6                                         \n",
       "Covariance Type:            nonrobust                                         \n",
       "===============================================================================\n",
       "                  coef    std err          t      P>|t|      [0.025      0.975]\n",
       "-------------------------------------------------------------------------------\n",
       "Intercept       1.3242      0.009    146.401      0.000       1.306       1.342\n",
       "Temperature    -0.0002   1.96e-05    -11.848      0.000      -0.000      -0.000\n",
       "Humidity        0.0003   1.75e-05     16.932      0.000       0.000       0.000\n",
       "Pressure        0.0115      0.000     25.605      0.000       0.011       0.012\n",
       "Visibility      0.0003      0.000      2.379      0.017    5.51e-05       0.001\n",
       "Wind_Speed      0.0046   7.19e-05     64.014      0.000       0.004       0.005\n",
       "Day             0.6223      0.005    136.779      0.000       0.613       0.631\n",
       "Night           0.7019      0.005    154.804      0.000       0.693       0.711\n",
       "==============================================================================\n",
       "Omnibus:                   376155.620   Durbin-Watson:                   1.468\n",
       "Prob(Omnibus):                  0.000   Jarque-Bera (JB):           571495.413\n",
       "Skew:                           1.156   Prob(JB):                         0.00\n",
       "Kurtosis:                       3.360   Cond. No.                     7.20e+17\n",
       "==============================================================================\n",
       "\n",
       "Warnings:\n",
       "[1] Standard Errors assume that the covariance matrix of the errors is correctly specified.\n",
       "[2] The smallest eigenvalue is 4.54e-26. This might indicate that there are\n",
       "strong multicollinearity problems or that the design matrix is singular.\n",
       "\"\"\""
      ]
     },
     "execution_count": 106,
     "metadata": {},
     "output_type": "execute_result"
    }
   ],
   "source": [
    "formula = ('Severity ~ Temperature + Humidity + Pressure + Visibility +  Wind_Speed + Day + Night')\n",
    "results = smf.ols(formula, data=df_new).fit()\n",
    "results.summary()"
   ]
  },
  {
   "cell_type": "code",
   "execution_count": 112,
   "metadata": {},
   "outputs": [
    {
     "data": {
      "text/plain": [
       "SpearmanrResult(correlation=-0.057134882487460036, pvalue=0.0)"
      ]
     },
     "execution_count": 112,
     "metadata": {},
     "output_type": "execute_result"
    }
   ],
   "source": [
    "SpearmanCorr(df_new['Day'], df_new['Severity'])"
   ]
  },
  {
   "cell_type": "code",
   "execution_count": 113,
   "metadata": {},
   "outputs": [
    {
     "data": {
      "text/plain": [
       "SpearmanrResult(correlation=0.057134882487460036, pvalue=0.0)"
      ]
     },
     "execution_count": 113,
     "metadata": {},
     "output_type": "execute_result"
    }
   ],
   "source": [
    "SpearmanCorr(df_new['Night'], df_new['Severity'])"
   ]
  },
  {
   "cell_type": "code",
   "execution_count": null,
   "metadata": {},
   "outputs": [],
   "source": []
  }
 ],
 "metadata": {
  "kernelspec": {
   "display_name": "Python 3",
   "language": "python",
   "name": "python3"
  },
  "language_info": {
   "codemirror_mode": {
    "name": "ipython",
    "version": 3
   },
   "file_extension": ".py",
   "mimetype": "text/x-python",
   "name": "python",
   "nbconvert_exporter": "python",
   "pygments_lexer": "ipython3",
   "version": "3.7.4"
  }
 },
 "nbformat": 4,
 "nbformat_minor": 2
}
